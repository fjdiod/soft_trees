{
 "cells": [
  {
   "cell_type": "code",
   "execution_count": 8,
   "metadata": {},
   "outputs": [],
   "source": [
    "import torch\n",
    "from torch import nn\n",
    "from torch.autograd import Variable\n",
    "from torchvision import datasets, transforms\n",
    "import torchvision\n",
    "import matplotlib.pyplot as plt\n",
    "import numpy as np\n",
    "from torch import optim\n",
    "from sklearn.metrics import accuracy_score\n",
    "import torch.nn.functional as F\n",
    "%matplotlib inline"
   ]
  },
  {
   "cell_type": "code",
   "execution_count": 2,
   "metadata": {},
   "outputs": [],
   "source": [
    "bsz = 10\n",
    "\n",
    "train_loader = torch.utils.data.DataLoader(\n",
    "        datasets.MNIST('../data', train=True, download=True,\n",
    "                       transform=transforms.Compose([\n",
    "                           transforms.ToTensor(),\n",
    "                           transforms.Normalize((0.1307,), (0.3081,))\n",
    "                       ])),\n",
    "        batch_size=bsz, shuffle=True)\n",
    "test_loader = torch.utils.data.DataLoader(\n",
    "        datasets.MNIST('../data', train=False, transform=transforms.Compose([\n",
    "                           transforms.ToTensor(),\n",
    "                           transforms.Normalize((0.1307,), (0.3081,))\n",
    "                       ])),\n",
    "batch_size=bsz, shuffle=True)"
   ]
  },
  {
   "cell_type": "code",
   "execution_count": 54,
   "metadata": {},
   "outputs": [],
   "source": [
    "class Net(nn.Module):\n",
    "    def __init__(self):\n",
    "        super(Net, self).__init__()\n",
    "        self.conv1 = nn.Conv2d(1, 10, kernel_size=5)\n",
    "        self.conv2 = nn.Conv2d(10, 20, kernel_size=5)\n",
    "        self.conv2_drop = nn.Dropout2d()\n",
    "        self.fc1 = nn.Linear(320, 50)\n",
    "        self.fc2 = nn.Linear(50, 10)\n",
    "\n",
    "    def forward(self, x):\n",
    "        x = F.relu(F.max_pool2d(self.conv1(x), 2))\n",
    "        x = F.relu(F.max_pool2d(self.conv2_drop(self.conv2(x)), 2))\n",
    "        x = x.view(-1, 320)\n",
    "        x = F.relu(self.fc1(x))\n",
    "        x = F.dropout(x, training=self.training)\n",
    "        x = self.fc2(x)\n",
    "        return F.log_softmax(x, dim=1)\n",
    "\n",
    "class MLPNet(nn.Module):\n",
    "    def __init__(self):\n",
    "        super(MLPNet, self).__init__()\n",
    "        self.fc1 = nn.Linear(28*28, 32)\n",
    "        self.fc2 = nn.Linear(32, 10)\n",
    "    def forward(self, x):\n",
    "        x = x.view(-1, 28*28)\n",
    "        x = F.relu(self.fc1(x))\n",
    "        x = F.relu(self.fc2(x))\n",
    "        return F.log_softmax(x, dim=1)\n",
    "\n",
    "def validate(model, batches_val):\n",
    "    model.eval()\n",
    "    y_pred = []\n",
    "    y_true = []\n",
    "    for batch in batches_val:\n",
    "        features, targets = batch\n",
    "        y_true += targets.tolist()\n",
    "        y_pred += model(Variable(features)).topk(1)[1].squeeze().data.tolist()\n",
    "    model.train()\n",
    "    return accuracy_score(y_true, y_pred)\n",
    "\n",
    "def dist_loss(out, labels, teacher):\n",
    "    f = nn.NLLLoss()\n",
    "    return f(out, labels) + f(out, teacher)"
   ]
  },
  {
   "cell_type": "code",
   "execution_count": 43,
   "metadata": {},
   "outputs": [],
   "source": [
    "model = MLPNet()"
   ]
  },
  {
   "cell_type": "code",
   "execution_count": 44,
   "metadata": {},
   "outputs": [
    {
     "data": {
      "text/plain": [
       "0.0986"
      ]
     },
     "execution_count": 44,
     "metadata": {},
     "output_type": "execute_result"
    }
   ],
   "source": [
    "validate(model, test_loader)"
   ]
  },
  {
   "cell_type": "code",
   "execution_count": 22,
   "metadata": {},
   "outputs": [
    {
     "data": {
      "text/plain": [
       "0.102"
      ]
     },
     "execution_count": 22,
     "metadata": {},
     "output_type": "execute_result"
    }
   ],
   "source": [
    "validate(model, test_loader)"
   ]
  },
  {
   "cell_type": "code",
   "execution_count": 11,
   "metadata": {},
   "outputs": [],
   "source": [
    "dataiter = iter(train_loader)\n",
    "images, labels = dataiter.next()"
   ]
  },
  {
   "cell_type": "code",
   "execution_count": 16,
   "metadata": {},
   "outputs": [],
   "source": [
    "\n",
    "criterion = nn.NLLLoss()\n",
    "n_epochs = 5\n",
    "print_every = 1000"
   ]
  },
  {
   "cell_type": "markdown",
   "metadata": {},
   "source": [
    "<h1>Train CNN"
   ]
  },
  {
   "cell_type": "code",
   "execution_count": 29,
   "metadata": {
    "scrolled": true
   },
   "outputs": [
    {
     "name": "stdout",
     "output_type": "stream",
     "text": [
      "EPOCH: 0\n",
      "0.0804\n",
      "2.5781917572021484 0.8341341545116157\n",
      "1.7495803833007812 0.3859355239938013\n",
      "2.3904292583465576 0.31571823291108014\n",
      "2.082207441329956 0.2902385855235625\n",
      "2.3022232055664062 0.26127666417288126\n",
      "1.8474044799804688 0.24793207397690276\n",
      "EPOCH: 1\n",
      "0.9765\n",
      "2.2189457416534424 0.2333276081267395\n",
      "2.178832769393921 0.23090576609777053\n",
      "1.6065044403076172 0.21492557313443103\n",
      "1.5838687419891357 0.2060381634734222\n",
      "1.9768308401107788 0.20097076870608727\n",
      "2.2970266342163086 0.20756648269458675\n",
      "EPOCH: 2\n",
      "0.9847\n",
      "2.664994239807129 0.19181009163678392\n",
      "3.1582534313201904 0.19489831896327087\n",
      "2.1870269775390625 0.18709432537964313\n",
      "1.8702701330184937 0.18550107920240771\n",
      "1.3937405347824097 0.18125683574864707\n",
      "2.4489450454711914 0.17984646524955314\n",
      "EPOCH: 3\n",
      "0.9848\n",
      "3.065427780151367 0.17222743564764095\n",
      "1.9703648090362549 0.19061334291644744\n",
      "1.6735700368881226 0.1792666082298383\n",
      "1.8166437149047852 0.1744234424589522\n",
      "1.915728211402893 0.17359374361951632\n",
      "2.1651902198791504 0.16571110398028396\n",
      "EPOCH: 4\n",
      "0.9852\n",
      "1.9539400339126587 0.1685089958020908\n",
      "2.455906391143799 0.16293530719067348\n",
      "1.7133384943008423 0.16114108250323078\n",
      "2.0919349193573 0.1590892010136886\n",
      "2.030611276626587 0.16733679432140344\n",
      "2.8893606662750244 0.16219849582041934\n"
     ]
    }
   ],
   "source": [
    "train_loss = []\n",
    "val_loss = []\n",
    "model = Net()\n",
    "optimizer = optim.Adam(model.parameters())\n",
    "for epoch in range(n_epochs):\n",
    "    print('EPOCH: {}'.format(epoch))\n",
    "    val_loss += [validate(model, test_loader)]\n",
    "    print(val_loss[-1])\n",
    "    for i, batch in enumerate(train_loader):\n",
    "        optimizer.zero_grad()\n",
    "        features, targets = batch\n",
    "        features = Variable(features)\n",
    "        targets = Variable(targets)\n",
    "        out = model(features)\n",
    "        loss = criterion(out, targets)\n",
    "        loss.backward()\n",
    "        optimizer.step()\n",
    "        train_loss += [loss.data[0]]\n",
    "        if (i + 1) % 1000 == 0:\n",
    "            print(np.max(train_loss), np.mean(train_loss))\n",
    "            train_loss = []"
   ]
  },
  {
   "cell_type": "markdown",
   "metadata": {},
   "source": [
    "<h1>Train MLP"
   ]
  },
  {
   "cell_type": "code",
   "execution_count": 55,
   "metadata": {},
   "outputs": [
    {
     "name": "stdout",
     "output_type": "stream",
     "text": [
      "EPOCH: 0\n",
      "0.0868\n",
      "2.4339194297790527 1.281710759960115\n",
      "2.5909934043884277 1.154912054359913\n",
      "2.312778949737549 1.1212260313797742\n",
      "2.7982451915740967 1.1218074560388922\n",
      "3.1012041568756104 1.0922972073554993\n",
      "2.335113763809204 1.0780489094108343\n",
      "EPOCH: 1\n",
      "0.6513\n",
      "2.244574785232544 1.0718755698390305\n",
      "2.707176685333252 1.041054245964624\n",
      "2.437919855117798 1.0873546012192965\n",
      "3.0367701053619385 1.0623042701147496\n",
      "2.3025853633880615 1.0523403420951218\n",
      "2.5725345611572266 1.0680838023247197\n",
      "EPOCH: 2\n",
      "0.6588\n",
      "2.3025853633880615 1.0417463421588764\n",
      "2.4176878929138184 1.0324794520940632\n",
      "2.245634078979492 1.0593762391423807\n",
      "2.5138306617736816 1.032323133953847\n",
      "3.0049571990966797 1.0340886754356324\n",
      "2.774027109146118 1.0594505604356528\n",
      "EPOCH: 3\n",
      "0.6507\n",
      "2.2482972145080566 0.9655954087497229\n",
      "2.1898789405822754 0.828860950259259\n",
      "2.588641405105591 0.8287117438032292\n",
      "2.163239002227783 0.8238641455876641\n",
      "2.395068407058716 0.816756155544892\n",
      "2.046461820602417 0.8145547002084204\n",
      "EPOCH: 4\n",
      "0.7492\n",
      "2.129333734512329 0.8245511711740401\n",
      "2.0778965950012207 0.8088409069133923\n",
      "2.6978611946105957 0.8012612408763089\n",
      "2.225705146789551 0.7856495016154368\n",
      "2.1744911670684814 0.7875671116658487\n",
      "2.1297948360443115 0.8258959797095158\n"
     ]
    }
   ],
   "source": [
    "train_loss = []\n",
    "val_loss = []\n",
    "model_mlp = MLPNet()\n",
    "optimizer = optim.Adam(model_mlp.parameters())\n",
    "for epoch in range(n_epochs):\n",
    "    print('EPOCH: {}'.format(epoch))\n",
    "    val_loss += [validate(model_mlp, test_loader)]\n",
    "    print(val_loss[-1])\n",
    "    for i, batch in enumerate(train_loader):\n",
    "        optimizer.zero_grad()\n",
    "        features, targets = batch\n",
    "        features = Variable(features)\n",
    "        targets = Variable(targets)\n",
    "        out = model_mlp(features)\n",
    "        loss = criterion(out, targets)\n",
    "        loss.backward()\n",
    "        optimizer.step()\n",
    "        train_loss += [loss.data[0]]\n",
    "        if (i + 1) % 1000 == 0:\n",
    "            print(np.max(train_loss), np.mean(train_loss))\n",
    "            train_loss = []"
   ]
  },
  {
   "cell_type": "code",
   "execution_count": null,
   "metadata": {},
   "outputs": [],
   "source": []
  }
 ],
 "metadata": {
  "kernelspec": {
   "display_name": "Python 3",
   "language": "python",
   "name": "python3"
  },
  "language_info": {
   "codemirror_mode": {
    "name": "ipython",
    "version": 3
   },
   "file_extension": ".py",
   "mimetype": "text/x-python",
   "name": "python",
   "nbconvert_exporter": "python",
   "pygments_lexer": "ipython3",
   "version": "3.6.2"
  }
 },
 "nbformat": 4,
 "nbformat_minor": 2
}
