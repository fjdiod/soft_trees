{
 "cells": [
  {
   "cell_type": "code",
   "execution_count": 218,
   "metadata": {},
   "outputs": [],
   "source": [
    "import torch\n",
    "from torch import nn\n",
    "from torch.autograd import Variable\n",
    "from torchvision import datasets, transforms\n",
    "import torchvision\n",
    "import matplotlib.pyplot as plt\n",
    "import numpy as np\n",
    "from torch import optim\n",
    "from sklearn.metrics import accuracy_score\n",
    "%matplotlib inline"
   ]
  },
  {
   "cell_type": "code",
   "execution_count": 7,
   "metadata": {},
   "outputs": [],
   "source": [
    "bsz = 10\n",
    "\n",
    "train_loader = torch.utils.data.DataLoader(\n",
    "        datasets.MNIST('../data', train=True, download=True,\n",
    "                       transform=transforms.Compose([\n",
    "                           transforms.ToTensor(),\n",
    "                           transforms.Normalize((0.1307,), (0.3081,))\n",
    "                       ])),\n",
    "        batch_size=bsz, shuffle=True)\n",
    "test_loader = torch.utils.data.DataLoader(\n",
    "        datasets.MNIST('../data', train=False, transform=transforms.Compose([\n",
    "                           transforms.ToTensor(),\n",
    "                           transforms.Normalize((0.1307,), (0.3081,))\n",
    "                       ])),\n",
    "batch_size=bsz, shuffle=True)"
   ]
  },
  {
   "cell_type": "code",
   "execution_count": 8,
   "metadata": {},
   "outputs": [
    {
     "name": "stdout",
     "output_type": "stream",
     "text": [
      "    7     6     8     0\n"
     ]
    },
    {
     "data": {
      "image/png": "[encoded data removed]",
      "text/plain": [
       "<matplotlib.figure.Figure at 0x7f274d77b2e8>"
      ]
     },
     "metadata": {},
     "output_type": "display_data"
    }
   ],
   "source": [
    "# functions to show an image\n",
    "def imshow(img):\n",
    "    img = img / 2 + 0.5     # unnormalize\n",
    "    npimg = img.numpy()\n",
    "    plt.imshow(np.transpose(npimg, (1, 2, 0)))\n",
    "\n",
    "# get some random training images\n",
    "dataiter = iter(train_loader)\n",
    "images, labels = dataiter.next()\n",
    "\n",
    "# show images\n",
    "imshow(torchvision.utils.make_grid(images))\n",
    "# print labels\n",
    "classes = list(range(10))\n",
    "print(' '.join('%5s' % classes[labels[j]] for j in range(4)))"
   ]
  },
  {
   "cell_type": "code",
   "execution_count": 244,
   "metadata": {},
   "outputs": [],
   "source": [
    "EPS = 1e-10\n",
    "\n",
    "class Leaf(nn.Module):\n",
    "    def __init__(self, i_size, o_size, h_size=128):\n",
    "        super(Leaf, self).__init__()\n",
    "        self.i2h = nn.Linear(i_size, h_size)\n",
    "        self.h2o = nn.Linear(h_size, o_size)\n",
    "        self.soft = nn.LogSoftmax(1)\n",
    "        self.relu = nn.ReLU()\n",
    "        self.is_leaf = True\n",
    "\n",
    "    def forward(self, features):\n",
    "        out = self.i2h(features)\n",
    "        out = self.relu(out)\n",
    "        out = self.h2o(out)\n",
    "        return self.soft(out)\n",
    "\n",
    "    def accum_probs(self, features, path_prob):\n",
    "        return [[path_prob, self.forward(features)]]\n",
    "\n",
    "    def calc_regularization(self, features, path_prob):\n",
    "        return 0\n",
    "\n",
    "class Node(nn.Module):\n",
    "    def __init__(self, i_size, o_size):\n",
    "        super(Node, self).__init__()\n",
    "        self.o_size = o_size\n",
    "        self.i_size = i_size\n",
    "        self.i2o = nn.Linear(i_size, 1)\n",
    "        self.sigmoid = nn.Sigmoid()\n",
    "        self.is_leaf = False\n",
    "    \n",
    "    def build_tree(self, depth):\n",
    "        if depth - 1 < 0:\n",
    "            raise ValueError(\"Depth must be greater than zero.\")\n",
    "        if depth - 1 > 0:\n",
    "            self.left = Node(self.i_size, self.o_size)\n",
    "            self.right = Node(self.i_size, self.o_size)\n",
    "            self.left.build_tree(depth - 1)\n",
    "            self.right.build_tree(depth - 1)\n",
    "        else:\n",
    "            self.left = Leaf(self.i_size, self.o_size)\n",
    "            self.right = Leaf(self.i_size, self.o_size)\n",
    "\n",
    "    def forward(self, features):\n",
    "        pr = self.prob_left(features)\n",
    "        return pr*self.left(features) + (1 - pr)*self.right(features)\n",
    "\n",
    "    def prob_left(self, features):\n",
    "        return self.sigmoid(self.i2o(features))\n",
    "\n",
    "    def accum_probs(self, features, path_prob):\n",
    "        res = []\n",
    "        p_l = self.sigmoid(self.i2o(features)).squeeze()\n",
    "        res_l = self.left.accum_probs(features, p_l*path_prob)\n",
    "        res_r = self.right.accum_probs(features, (1 - p_l)*path_prob)\n",
    "        res.extend(res_l)\n",
    "        res.extend(res_r)\n",
    "        return res\n",
    "\n",
    "    def calc_regularization(self, features, path_prob):\n",
    "        p_l = self.prob_left(features).squeeze()\n",
    "        alpha = (path_prob*p_l).sum()/(path_prob.sum())\n",
    "        C_here = -0.5*torch.log(alpha + EPS) - 0.5*torch.log(1 - alpha + EPS)\n",
    "        C = self.left.calc_regularization(features, p_l*path_prob) + \\\n",
    "                        self.right.calc_regularization(features, (1 - p_l)*path_prob)\n",
    "        C = C + C_here\n",
    "        return C\n",
    "        \n",
    "\n",
    "def tree_loss(path_probs, y_true, C, gamma):\n",
    "    loss = 0\n",
    "    criterion = nn.NLLLoss(reduce=False)\n",
    "    for p, pred in path_probs:\n",
    "        loss += (p*criterion(pred, y_true)).mean()\n",
    "    return loss.mean() + gamma*C\n",
    "\n",
    "def tree_logloss(path_probs, y_true):\n",
    "    \"\"\"\n",
    "    Original loss from paper\n",
    "    \"\"\"\n",
    "    loss = 0\n",
    "    criterion = nn.NLLLoss()\n",
    "    for p, pred in path_probs:\n",
    "        loss -= (p.squeeze()*criterion(pred, y_true)).mean()\n",
    "    return -torch.log(loss.mean())\n",
    "\n",
    "def train(model, batches_train, batches_val, n_epoch=5, gamma=0.1,\n",
    "          criterion=tree_loss, val_every=500, print_every=100):\n",
    "    model.train()\n",
    "    optimizer = optim.Adam(model.parameters())\n",
    "    all_losses = np.zeros(print_every)\n",
    "    plot_train = []\n",
    "    plot_val = []\n",
    "    for epoch in range(n_epoch):\n",
    "        print('Epoch: {}'.format(epoch))\n",
    "        for i, batch in enumerate(batches_train):\n",
    "            optimizer.zero_grad()\n",
    "            features, targets = batch\n",
    "            features = Variable(features.view(-1, 28*28))\n",
    "            targets = Variable(targets)\n",
    "            prb = model.accum_probs(features, Variable(torch.Tensor([1]*targets.shape[0])))\n",
    "            C = model.calc_regularization(features, Variable(torch.Tensor([1]*targets.shape[0])))\n",
    "            loss = tree_loss(prb, targets, C, gamma=gamma)\n",
    "            loss.backward()\n",
    "            optimizer.step()\n",
    "            plot_train += [loss.data[0]]\n",
    "            all_losses[(i + 1)%print_every] = loss.data[0]\n",
    "            if (i + 1) % print_every == 0:\n",
    "                print(all_losses.max(), all_losses.mean())\n",
    "            if (i + 1) % val_every == 0:\n",
    "                plot_val += [validate(model, batches_val)]\n",
    "    return plot_train, plot_val\n",
    "\n",
    "def validate(model, batches_val):\n",
    "    model.eval()\n",
    "    y_pred = []\n",
    "    y_true = []\n",
    "    for batch in batches_val:\n",
    "        features, targets = batch\n",
    "        y_true += targets.tolist()\n",
    "        y_pred += model(Variable(features.view(-1, 28*28))).topk(1)[1].squeeze().data.tolist()\n",
    "    model.train()\n",
    "    return accuracy_score(y_true, y_pred)"
   ]
  },
  {
   "cell_type": "code",
   "execution_count": 249,
   "metadata": {},
   "outputs": [],
   "source": [
    "net = Node(28*28, 10)"
   ]
  },
  {
   "cell_type": "code",
   "execution_count": 250,
   "metadata": {},
   "outputs": [],
   "source": [
    "net.build_tree(2)"
   ]
  },
  {
   "cell_type": "code",
   "execution_count": 251,
   "metadata": {},
   "outputs": [
    {
     "data": {
      "text/plain": [
       "0.0883"
      ]
     },
     "execution_count": 251,
     "metadata": {},
     "output_type": "execute_result"
    }
   ],
   "source": [
    "validate(net, test_loader)"
   ]
  },
  {
   "cell_type": "code",
   "execution_count": 252,
   "metadata": {
    "scrolled": true
   },
   "outputs": [
    {
     "name": "stdout",
     "output_type": "stream",
     "text": [
      "Epoch: 0\n",
      "2.3208134174346924 0.9850304496288299\n",
      "1.124450922012329 0.4424265518411994\n",
      "1.487255573272705 0.39970444157719615\n",
      "1.1348315477371216 0.3702938113361597\n",
      "1.466813564300537 0.3933159306133166\n",
      "1.6960644721984863 0.3138192646577954\n",
      "1.217405080795288 0.30514644775539634\n",
      "1.1556371450424194 0.29529811756685376\n",
      "1.191265344619751 0.22567772466689348\n",
      "1.8193292617797852 0.27397711247205736\n",
      "1.23622465133667 0.2687176687456667\n",
      "1.2653847932815552 0.22984152415767312\n",
      "1.8631157875061035 0.19994493345264344\n",
      "1.286694884300232 0.2698298747185618\n",
      "2.304396152496338 0.21439555362798274\n",
      "1.6031297445297241 0.24639692983357236\n",
      "1.064756155014038 0.22799287303350865\n",
      "1.0995135307312012 0.2082734259031713\n",
      "1.0551551580429077 0.20649951677769424\n",
      "1.0215766429901123 0.25772748090326786\n",
      "0.7689920663833618 0.17644611961208284\n",
      "1.0986156463623047 0.18222827931400387\n",
      "1.1006221771240234 0.16866874655243008\n",
      "0.8370348215103149 0.17149998996872454\n",
      "1.397258996963501 0.16925717217149214\n",
      "1.1604899168014526 0.20883429812733084\n",
      "0.8361403346061707 0.17829439171589911\n",
      "1.0696121454238892 0.15313711863942445\n",
      "0.8889804482460022 0.1469799780426547\n",
      "0.7911593317985535 0.11512288965983317\n",
      "1.3839755058288574 0.16378633158979938\n",
      "0.8525345325469971 0.1707738986320328\n",
      "1.0671029090881348 0.17591319049708545\n",
      "0.9335495233535767 0.16334078460931778\n",
      "0.7481372356414795 0.172690078986343\n",
      "1.143003225326538 0.13502014294732362\n",
      "0.6795305013656616 0.1392819927376695\n",
      "1.4145958423614502 0.15149038768431639\n",
      "0.991976797580719 0.1343320899049286\n",
      "1.0135029554367065 0.1405631335428916\n",
      "1.165534496307373 0.179615306679043\n",
      "1.126476764678955 0.14920794221223332\n",
      "1.3399792909622192 0.20933078387752174\n",
      "0.7174442410469055 0.13387076538288967\n",
      "0.9662591218948364 0.1236598418536596\n",
      "1.1802544593811035 0.16196205306681805\n",
      "1.2636271715164185 0.13309095038857777\n",
      "0.5890356302261353 0.10510191385401413\n",
      "0.9154562950134277 0.15658470588503406\n",
      "1.0138267278671265 0.13859826664207503\n",
      "0.8046207427978516 0.12664143761619925\n",
      "1.191956877708435 0.14940872391103766\n",
      "1.6261845827102661 0.1756876912410371\n",
      "1.0684453248977661 0.12140343839768321\n",
      "2.283851146697998 0.11533851633837912\n",
      "0.8713347315788269 0.14415901546075474\n",
      "0.9744457006454468 0.12392199873924255\n",
      "0.7241734862327576 0.11982066660420969\n",
      "1.3630993366241455 0.13718239458132303\n",
      "1.0163742303848267 0.12103703456756193\n"
     ]
    }
   ],
   "source": [
    "training, testing = train(net, train_loader, test_loader, gamma=0, n_epoch=1)"
   ]
  },
  {
   "cell_type": "code",
   "execution_count": 253,
   "metadata": {},
   "outputs": [
    {
     "data": {
      "text/plain": [
       "0.9634"
      ]
     },
     "execution_count": 253,
     "metadata": {},
     "output_type": "execute_result"
    }
   ],
   "source": [
    "validate(net, test_loader)"
   ]
  },
  {
   "cell_type": "code",
   "execution_count": 254,
   "metadata": {},
   "outputs": [
    {
     "data": {
      "text/plain": [
       "[<matplotlib.lines.Line2D at 0x7f2712d93f98>]"
      ]
     },
     "execution_count": 254,
     "metadata": {},
     "output_type": "execute_result"
    },
    {
     "data": {
      "image/png": "[encoded data removed]",
      "text/plain": [
       "<matplotlib.figure.Figure at 0x7f2712d55e48>"
      ]
     },
     "metadata": {},
     "output_type": "display_data"
    }
   ],
   "source": [
    "plt.plot(training)"
   ]
  },
  {
   "cell_type": "code",
   "execution_count": 255,
   "metadata": {},
   "outputs": [
    {
     "data": {
      "text/plain": [
       "[<matplotlib.lines.Line2D at 0x7f2711bb7668>]"
      ]
     },
     "execution_count": 255,
     "metadata": {},
     "output_type": "execute_result"
    },
    {
     "data": {
      "image/png": "[encoded data removed]",
      "text/plain": [
       "<matplotlib.figure.Figure at 0x7f2712d23ef0>"
      ]
     },
     "metadata": {},
     "output_type": "display_data"
    }
   ],
   "source": [
    "plt.plot(testing)"
   ]
  },
  {
   "cell_type": "code",
   "execution_count": 217,
   "metadata": {},
   "outputs": [
    {
     "data": {
      "text/plain": [
       "Variable containing:\n",
       " 5\n",
       " 4\n",
       " 1\n",
       " 1\n",
       " 3\n",
       " 5\n",
       " 5\n",
       " 1\n",
       " 7\n",
       " 4\n",
       "[torch.LongTensor of size 10]"
      ]
     },
     "execution_count": 217,
     "metadata": {},
     "output_type": "execute_result"
    }
   ],
   "source": [
    "net(Variable(images.view((-1, 28*28)))).topk(1)[1].squeeze()"
   ]
  },
  {
   "cell_type": "code",
   "execution_count": 214,
   "metadata": {},
   "outputs": [],
   "source": [
    "prb = net.accum_probs(Variable(images.view((-1, 28*28))), Variable(torch.Tensor([1]*10)))"
   ]
  },
  {
   "cell_type": "code",
   "execution_count": 195,
   "metadata": {},
   "outputs": [
    {
     "data": {
      "text/plain": [
       "Variable containing:\n",
       " 2.1169\n",
       "[torch.FloatTensor of size 1]"
      ]
     },
     "execution_count": 195,
     "metadata": {},
     "output_type": "execute_result"
    }
   ],
   "source": [
    "net.calc_regularization(Variable(images.view((-1, 28*28))), Variable(torch.Tensor([1]*10)))"
   ]
  },
  {
   "cell_type": "code",
   "execution_count": 197,
   "metadata": {},
   "outputs": [
    {
     "data": {
      "text/plain": [
       "Variable containing:\n",
       " 2.2713\n",
       "[torch.FloatTensor of size 1]"
      ]
     },
     "execution_count": 197,
     "metadata": {},
     "output_type": "execute_result"
    }
   ],
   "source": [
    "tree_loss(prb, Variable(labels))"
   ]
  },
  {
   "cell_type": "code",
   "execution_count": 216,
   "metadata": {},
   "outputs": [
    {
     "name": "stdout",
     "output_type": "stream",
     "text": [
      "0\n",
      "0.04448346048593521 0.00022241730242967606\n",
      "1.02219557762146 0.08888920063320256\n",
      "1.451016902923584 0.08958627382096893\n",
      "0.7898892164230347 0.07377105898632635\n",
      "0.8192051649093628 0.09002668988283404\n",
      "1.0244543552398682 0.09055522648563055\n",
      "0.8202686309814453 0.06427575424821043\n",
      "1.0864510536193848 0.06934745590515376\n",
      "1.038622498512268 0.08273247984929184\n",
      "0.9751286506652832 0.08803182879798442\n",
      "0.8449207544326782 0.09709214693728882\n",
      "1.6900041103363037 0.07923221594566712\n",
      "1\n",
      "1.117004632949829 0.09148552033993837\n",
      "1.0373001098632812 0.053492266329180894\n",
      "0.9193560481071472 0.06770165810565232\n",
      "0.9085773229598999 0.07426115564112024\n",
      "0.9426153898239136 0.060279333355249494\n",
      "1.581984281539917 0.07996730690209006\n",
      "0.8262917399406433 0.04464407770685796\n",
      "1.4186687469482422 0.08468332829243082\n",
      "1.0184742212295532 0.06022437862151492\n",
      "1.783700704574585 0.07072012345957773\n",
      "1.1958775520324707 0.05676366136369324\n",
      "1.0159505605697632 0.08166369924033007\n",
      "2\n",
      "1.3204072713851929 0.08106961273033335\n",
      "1.20656418800354 0.054273743950489006\n",
      "1.2001416683197021 0.05138382116654611\n",
      "1.5498477220535278 0.08180975164873189\n",
      "0.5664224624633789 0.051097978407015035\n",
      "1.0965118408203125 0.05959568309531647\n",
      "1.313328504562378 0.053554794553404006\n",
      "0.8663555979728699 0.05170216243136792\n",
      "2.050429105758667 0.08129587434781911\n",
      "0.9895069003105164 0.06279321925190402\n",
      "1.0365841388702393 0.09404437325707476\n",
      "0.8960312008857727 0.05690750402854064\n",
      "3\n",
      "1.4265471696853638 0.06668195053788623\n"
     ]
    },
    {
     "ename": "KeyboardInterrupt",
     "evalue": "",
     "output_type": "error",
     "traceback": [
      "\u001b[0;31m---------------------------------------------------------------------------\u001b[0m",
      "\u001b[0;31mKeyboardInterrupt\u001b[0m                         Traceback (most recent call last)",
      "\u001b[0;32m<ipython-input-216-e2e54b9f2c35>\u001b[0m in \u001b[0;36m<module>\u001b[0;34m()\u001b[0m\n\u001b[1;32m     11\u001b[0m         \u001b[0mloss\u001b[0m \u001b[0;34m=\u001b[0m \u001b[0mtree_loss\u001b[0m\u001b[0;34m(\u001b[0m\u001b[0mnet\u001b[0m\u001b[0;34m.\u001b[0m\u001b[0maccum_probs\u001b[0m\u001b[0;34m(\u001b[0m\u001b[0mfeatures\u001b[0m\u001b[0;34m,\u001b[0m \u001b[0;36m1\u001b[0m\u001b[0;34m)\u001b[0m\u001b[0;34m,\u001b[0m \u001b[0mtargets\u001b[0m\u001b[0;34m)\u001b[0m\u001b[0;34m\u001b[0m\u001b[0m\n\u001b[1;32m     12\u001b[0m         \u001b[0mloss\u001b[0m\u001b[0;34m.\u001b[0m\u001b[0mbackward\u001b[0m\u001b[0;34m(\u001b[0m\u001b[0;34m)\u001b[0m\u001b[0;34m\u001b[0m\u001b[0m\n\u001b[0;32m---> 13\u001b[0;31m         \u001b[0moptimizer\u001b[0m\u001b[0;34m.\u001b[0m\u001b[0mstep\u001b[0m\u001b[0;34m(\u001b[0m\u001b[0;34m)\u001b[0m\u001b[0;34m\u001b[0m\u001b[0m\n\u001b[0m\u001b[1;32m     14\u001b[0m         \u001b[0mall_loss\u001b[0m\u001b[0;34m[\u001b[0m\u001b[0mi\u001b[0m\u001b[0;34m%\u001b[0m\u001b[0;36m200\u001b[0m\u001b[0;34m]\u001b[0m \u001b[0;34m=\u001b[0m \u001b[0mloss\u001b[0m\u001b[0;34m.\u001b[0m\u001b[0mdata\u001b[0m\u001b[0;34m[\u001b[0m\u001b[0;36m0\u001b[0m\u001b[0;34m]\u001b[0m\u001b[0;34m\u001b[0m\u001b[0m\n\u001b[1;32m     15\u001b[0m         \u001b[0;32mif\u001b[0m \u001b[0mi\u001b[0m \u001b[0;34m%\u001b[0m \u001b[0;36m500\u001b[0m \u001b[0;34m==\u001b[0m \u001b[0;36m0\u001b[0m\u001b[0;34m:\u001b[0m\u001b[0;34m\u001b[0m\u001b[0m\n",
      "\u001b[0;32m~/anaconda3/lib/python3.6/site-packages/torch/optim/adam.py\u001b[0m in \u001b[0;36mstep\u001b[0;34m(self, closure)\u001b[0m\n\u001b[1;32m     76\u001b[0m                 \u001b[0mstep_size\u001b[0m \u001b[0;34m=\u001b[0m \u001b[0mgroup\u001b[0m\u001b[0;34m[\u001b[0m\u001b[0;34m'lr'\u001b[0m\u001b[0;34m]\u001b[0m \u001b[0;34m*\u001b[0m \u001b[0mmath\u001b[0m\u001b[0;34m.\u001b[0m\u001b[0msqrt\u001b[0m\u001b[0;34m(\u001b[0m\u001b[0mbias_correction2\u001b[0m\u001b[0;34m)\u001b[0m \u001b[0;34m/\u001b[0m \u001b[0mbias_correction1\u001b[0m\u001b[0;34m\u001b[0m\u001b[0m\n\u001b[1;32m     77\u001b[0m \u001b[0;34m\u001b[0m\u001b[0m\n\u001b[0;32m---> 78\u001b[0;31m                 \u001b[0mp\u001b[0m\u001b[0;34m.\u001b[0m\u001b[0mdata\u001b[0m\u001b[0;34m.\u001b[0m\u001b[0maddcdiv_\u001b[0m\u001b[0;34m(\u001b[0m\u001b[0;34m-\u001b[0m\u001b[0mstep_size\u001b[0m\u001b[0;34m,\u001b[0m \u001b[0mexp_avg\u001b[0m\u001b[0;34m,\u001b[0m \u001b[0mdenom\u001b[0m\u001b[0;34m)\u001b[0m\u001b[0;34m\u001b[0m\u001b[0m\n\u001b[0m\u001b[1;32m     79\u001b[0m \u001b[0;34m\u001b[0m\u001b[0m\n\u001b[1;32m     80\u001b[0m         \u001b[0;32mreturn\u001b[0m \u001b[0mloss\u001b[0m\u001b[0;34m\u001b[0m\u001b[0m\n",
      "\u001b[0;31mKeyboardInterrupt\u001b[0m: "
     ]
    }
   ],
   "source": [
    "optimizer = optim.Adam(net.parameters())\n",
    "all_loss = np.zeros(200)\n",
    "criterion = nn.NLLLoss()\n",
    "for epoch in range(5):\n",
    "    print(epoch)\n",
    "    for i, batch in enumerate(train_loader):\n",
    "        optimizer.zero_grad()\n",
    "        features, targets = batch\n",
    "        features = Variable(features.view(-1, 28*28))\n",
    "        targets = Variable(targets)\n",
    "        #out = net(features)\n",
    "        loss = tree_loss(net.accum_probs(features, 1), targets)\n",
    "        loss.backward()\n",
    "        optimizer.step()\n",
    "        all_loss[i%200] = loss.data[0]\n",
    "        if i % 500 == 0:\n",
    "            print(all_loss.max(), all_loss.mean())"
   ]
  },
  {
   "cell_type": "code",
   "execution_count": 246,
   "metadata": {},
   "outputs": [
    {
     "name": "stdout",
     "output_type": "stream",
     "text": [
      "0\n",
      "2.337132692337036 0.01168566346168518\n",
      "2.3393688201904297 0.70941203083843\n",
      "1.3418190479278564 0.3813070855103433\n",
      "1.240387201309204 0.353357810145244\n",
      "1.5959804058074951 0.31500955848023293\n",
      "1.2646723985671997 0.2582339872000739\n",
      "1.3248506784439087 0.2482780652702786\n",
      "1.549913763999939 0.2536597382789478\n",
      "1.1887271404266357 0.25024431850295514\n",
      "1.5904780626296997 0.2372973468201235\n",
      "1.4080578088760376 0.2245685329241678\n",
      "1.1917880773544312 0.20229555137222632\n",
      "1.4389848709106445 0.20757214635959825\n",
      "1.5717592239379883 0.19943377160350792\n",
      "1.2524627447128296 0.19819177539437077\n",
      "1.2399612665176392 0.17059512886451558\n",
      "1.3004764318466187 0.1951107891072752\n",
      "1.2526800632476807 0.17038131895358674\n",
      "1.405723214149475 0.16615860196354335\n",
      "1.120182991027832 0.19178391175126308\n",
      "1.256012201309204 0.16591066210065036\n",
      "1.600950002670288 0.173624066633638\n",
      "1.495044231414795 0.14647242508857744\n",
      "1.1515161991119385 0.15268506557506042\n",
      "1.668564796447754 0.15179500662139617\n",
      "0.9392849802970886 0.13501581214077304\n",
      "0.994438648223877 0.14582072310411603\n",
      "1.3024874925613403 0.16812489391770213\n",
      "1.2526028156280518 0.16104403021628969\n",
      "2.090782642364502 0.15498800041357755\n",
      "1\n",
      "2.249655246734619 0.17349214131652843\n",
      "1.0166481733322144 0.11070077896758448\n",
      "1.1756541728973389 0.11778788677183911\n",
      "0.7878836393356323 0.1049861797504127\n",
      "1.190197229385376 0.10084869241138222\n",
      "0.8199559450149536 0.12384143023067735\n",
      "1.2783963680267334 0.10229497142849141\n",
      "1.1938849687576294 0.11119598269142443\n",
      "0.9072431325912476 0.11310906508471817\n",
      "1.49693763256073 0.11220718260694412\n",
      "1.5392417907714844 0.13216923019790555\n",
      "1.3014624118804932 0.09925999975246669\n",
      "1.3958823680877686 0.13049017116543837\n",
      "0.8362331390380859 0.11192860983122956\n",
      "1.2022597789764404 0.10416906210994056\n",
      "1.4045004844665527 0.1321995350914949\n",
      "0.9872671365737915 0.10715923404830391\n",
      "1.2150428295135498 0.12070791431877297\n",
      "0.7070863842964172 0.08775358264509123\n",
      "0.9247279167175293 0.11101535839035932\n",
      "1.7719978094100952 0.10617282761540991\n",
      "1.2982298135757446 0.11290516461915104\n",
      "1.0412086248397827 0.11625058454450482\n",
      "1.1608940362930298 0.10263639220320328\n",
      "1.4126402139663696 0.12701430193090346\n",
      "0.9020196795463562 0.1238744110269181\n",
      "0.9309577941894531 0.10307445798127446\n",
      "1.4845507144927979 0.09216137280731346\n",
      "1.2667077779769897 0.1063583835123427\n",
      "0.9360715746879578 0.1067571297995164\n",
      "2\n",
      "1.610906958580017 0.13621546054797362\n",
      "1.3921765089035034 0.08986252051625343\n",
      "0.9303730130195618 0.08107140277428698\n"
     ]
    },
    {
     "ename": "KeyboardInterrupt",
     "evalue": "",
     "output_type": "error",
     "traceback": [
      "\u001b[0;31m---------------------------------------------------------------------------\u001b[0m",
      "\u001b[0;31mKeyboardInterrupt\u001b[0m                         Traceback (most recent call last)",
      "\u001b[0;32m<ipython-input-246-72f4dd786c77>\u001b[0m in \u001b[0;36m<module>\u001b[0;34m()\u001b[0m\n\u001b[1;32m     12\u001b[0m         \u001b[0mloss\u001b[0m \u001b[0;34m=\u001b[0m \u001b[0mcriterion\u001b[0m\u001b[0;34m(\u001b[0m\u001b[0mout\u001b[0m\u001b[0;34m,\u001b[0m \u001b[0mtargets\u001b[0m\u001b[0;34m)\u001b[0m\u001b[0;34m\u001b[0m\u001b[0m\n\u001b[1;32m     13\u001b[0m         \u001b[0mloss\u001b[0m\u001b[0;34m.\u001b[0m\u001b[0mbackward\u001b[0m\u001b[0;34m(\u001b[0m\u001b[0;34m)\u001b[0m\u001b[0;34m\u001b[0m\u001b[0m\n\u001b[0;32m---> 14\u001b[0;31m         \u001b[0moptimizer\u001b[0m\u001b[0;34m.\u001b[0m\u001b[0mstep\u001b[0m\u001b[0;34m(\u001b[0m\u001b[0;34m)\u001b[0m\u001b[0;34m\u001b[0m\u001b[0m\n\u001b[0m\u001b[1;32m     15\u001b[0m         \u001b[0mall_loss\u001b[0m\u001b[0;34m[\u001b[0m\u001b[0mi\u001b[0m\u001b[0;34m%\u001b[0m\u001b[0;36m200\u001b[0m\u001b[0;34m]\u001b[0m \u001b[0;34m=\u001b[0m \u001b[0mloss\u001b[0m\u001b[0;34m.\u001b[0m\u001b[0mdata\u001b[0m\u001b[0;34m[\u001b[0m\u001b[0;36m0\u001b[0m\u001b[0;34m]\u001b[0m\u001b[0;34m\u001b[0m\u001b[0m\n\u001b[1;32m     16\u001b[0m         \u001b[0;32mif\u001b[0m \u001b[0mi\u001b[0m \u001b[0;34m%\u001b[0m \u001b[0;36m200\u001b[0m \u001b[0;34m==\u001b[0m \u001b[0;36m0\u001b[0m\u001b[0;34m:\u001b[0m\u001b[0;34m\u001b[0m\u001b[0m\n",
      "\u001b[0;32m~/anaconda3/lib/python3.6/site-packages/torch/optim/adam.py\u001b[0m in \u001b[0;36mstep\u001b[0;34m(self, closure)\u001b[0m\n\u001b[1;32m     76\u001b[0m                 \u001b[0mstep_size\u001b[0m \u001b[0;34m=\u001b[0m \u001b[0mgroup\u001b[0m\u001b[0;34m[\u001b[0m\u001b[0;34m'lr'\u001b[0m\u001b[0;34m]\u001b[0m \u001b[0;34m*\u001b[0m \u001b[0mmath\u001b[0m\u001b[0;34m.\u001b[0m\u001b[0msqrt\u001b[0m\u001b[0;34m(\u001b[0m\u001b[0mbias_correction2\u001b[0m\u001b[0;34m)\u001b[0m \u001b[0;34m/\u001b[0m \u001b[0mbias_correction1\u001b[0m\u001b[0;34m\u001b[0m\u001b[0m\n\u001b[1;32m     77\u001b[0m \u001b[0;34m\u001b[0m\u001b[0m\n\u001b[0;32m---> 78\u001b[0;31m                 \u001b[0mp\u001b[0m\u001b[0;34m.\u001b[0m\u001b[0mdata\u001b[0m\u001b[0;34m.\u001b[0m\u001b[0maddcdiv_\u001b[0m\u001b[0;34m(\u001b[0m\u001b[0;34m-\u001b[0m\u001b[0mstep_size\u001b[0m\u001b[0;34m,\u001b[0m \u001b[0mexp_avg\u001b[0m\u001b[0;34m,\u001b[0m \u001b[0mdenom\u001b[0m\u001b[0;34m)\u001b[0m\u001b[0;34m\u001b[0m\u001b[0m\n\u001b[0m\u001b[1;32m     79\u001b[0m \u001b[0;34m\u001b[0m\u001b[0m\n\u001b[1;32m     80\u001b[0m         \u001b[0;32mreturn\u001b[0m \u001b[0mloss\u001b[0m\u001b[0;34m\u001b[0m\u001b[0m\n",
      "\u001b[0;31mKeyboardInterrupt\u001b[0m: "
     ]
    }
   ],
   "source": [
    "optimizer = optim.Adam(net.parameters())\n",
    "all_loss = np.zeros(200)\n",
    "criterion = nn.NLLLoss()\n",
    "for epoch in range(5):\n",
    "    print(epoch)\n",
    "    for i, batch in enumerate(train_loader):\n",
    "        optimizer.zero_grad()\n",
    "        features, targets = batch\n",
    "        features = Variable(features.view(-1, 28*28))\n",
    "        targets = Variable(targets)\n",
    "        out = net(features)\n",
    "        loss = criterion(out, targets)\n",
    "        loss.backward()\n",
    "        optimizer.step()\n",
    "        all_loss[i%200] = loss.data[0]\n",
    "        if i % 200 == 0:\n",
    "            print(all_loss.max(), all_loss.mean())"
   ]
  },
  {
   "cell_type": "code",
   "execution_count": 266,
   "metadata": {},
   "outputs": [
    {
     "name": "stdout",
     "output_type": "stream",
     "text": [
      "0\n",
      "nan nan\n"
     ]
    },
    {
     "ename": "KeyboardInterrupt",
     "evalue": "",
     "output_type": "error",
     "traceback": [
      "\u001b[0;31m---------------------------------------------------------------------------\u001b[0m",
      "\u001b[0;31mKeyboardInterrupt\u001b[0m                         Traceback (most recent call last)",
      "\u001b[0;32m<ipython-input-266-0f18e63191e4>\u001b[0m in \u001b[0;36m<module>\u001b[0;34m()\u001b[0m\n\u001b[1;32m     11\u001b[0m         \u001b[0;31m#out = net(features)\u001b[0m\u001b[0;34m\u001b[0m\u001b[0;34m\u001b[0m\u001b[0m\n\u001b[1;32m     12\u001b[0m         \u001b[0mloss\u001b[0m \u001b[0;34m=\u001b[0m \u001b[0mtree_logloss\u001b[0m\u001b[0;34m(\u001b[0m\u001b[0mnet\u001b[0m\u001b[0;34m.\u001b[0m\u001b[0maccum_probs\u001b[0m\u001b[0;34m(\u001b[0m\u001b[0mfeatures\u001b[0m\u001b[0;34m,\u001b[0m \u001b[0;36m1\u001b[0m\u001b[0;34m)\u001b[0m\u001b[0;34m,\u001b[0m \u001b[0mtargets\u001b[0m\u001b[0;34m)\u001b[0m\u001b[0;34m\u001b[0m\u001b[0m\n\u001b[0;32m---> 13\u001b[0;31m         \u001b[0mloss\u001b[0m\u001b[0;34m.\u001b[0m\u001b[0mbackward\u001b[0m\u001b[0;34m(\u001b[0m\u001b[0;34m)\u001b[0m\u001b[0;34m\u001b[0m\u001b[0m\n\u001b[0m\u001b[1;32m     14\u001b[0m         \u001b[0moptimizer\u001b[0m\u001b[0;34m.\u001b[0m\u001b[0mstep\u001b[0m\u001b[0;34m(\u001b[0m\u001b[0;34m)\u001b[0m\u001b[0;34m\u001b[0m\u001b[0m\n\u001b[1;32m     15\u001b[0m         \u001b[0mall_loss\u001b[0m\u001b[0;34m[\u001b[0m\u001b[0mi\u001b[0m\u001b[0;34m%\u001b[0m\u001b[0;36m200\u001b[0m\u001b[0;34m]\u001b[0m \u001b[0;34m=\u001b[0m \u001b[0mloss\u001b[0m\u001b[0;34m.\u001b[0m\u001b[0mdata\u001b[0m\u001b[0;34m[\u001b[0m\u001b[0;36m0\u001b[0m\u001b[0;34m]\u001b[0m\u001b[0;34m\u001b[0m\u001b[0m\n",
      "\u001b[0;32m~/anaconda3/lib/python3.6/site-packages/torch/autograd/variable.py\u001b[0m in \u001b[0;36mbackward\u001b[0;34m(self, gradient, retain_graph, create_graph, retain_variables)\u001b[0m\n\u001b[1;32m    165\u001b[0m                 \u001b[0mVariable\u001b[0m\u001b[0;34m.\u001b[0m\u001b[0;34m\u001b[0m\u001b[0m\n\u001b[1;32m    166\u001b[0m         \"\"\"\n\u001b[0;32m--> 167\u001b[0;31m         \u001b[0mtorch\u001b[0m\u001b[0;34m.\u001b[0m\u001b[0mautograd\u001b[0m\u001b[0;34m.\u001b[0m\u001b[0mbackward\u001b[0m\u001b[0;34m(\u001b[0m\u001b[0mself\u001b[0m\u001b[0;34m,\u001b[0m \u001b[0mgradient\u001b[0m\u001b[0;34m,\u001b[0m \u001b[0mretain_graph\u001b[0m\u001b[0;34m,\u001b[0m \u001b[0mcreate_graph\u001b[0m\u001b[0;34m,\u001b[0m \u001b[0mretain_variables\u001b[0m\u001b[0;34m)\u001b[0m\u001b[0;34m\u001b[0m\u001b[0m\n\u001b[0m\u001b[1;32m    168\u001b[0m \u001b[0;34m\u001b[0m\u001b[0m\n\u001b[1;32m    169\u001b[0m     \u001b[0;32mdef\u001b[0m \u001b[0mregister_hook\u001b[0m\u001b[0;34m(\u001b[0m\u001b[0mself\u001b[0m\u001b[0;34m,\u001b[0m \u001b[0mhook\u001b[0m\u001b[0;34m)\u001b[0m\u001b[0;34m:\u001b[0m\u001b[0;34m\u001b[0m\u001b[0m\n",
      "\u001b[0;32m~/anaconda3/lib/python3.6/site-packages/torch/autograd/__init__.py\u001b[0m in \u001b[0;36mbackward\u001b[0;34m(variables, grad_variables, retain_graph, create_graph, retain_variables)\u001b[0m\n\u001b[1;32m     97\u001b[0m \u001b[0;34m\u001b[0m\u001b[0m\n\u001b[1;32m     98\u001b[0m     Variable._execution_engine.run_backward(\n\u001b[0;32m---> 99\u001b[0;31m         variables, grad_variables, retain_graph)\n\u001b[0m\u001b[1;32m    100\u001b[0m \u001b[0;34m\u001b[0m\u001b[0m\n\u001b[1;32m    101\u001b[0m \u001b[0;34m\u001b[0m\u001b[0m\n",
      "\u001b[0;31mKeyboardInterrupt\u001b[0m: "
     ]
    }
   ],
   "source": [
    "optimizer = optim.Adam(net.parameters())\n",
    "all_loss = np.zeros(200)\n",
    "criterion = nn.NLLLoss()\n",
    "for epoch in range(5):\n",
    "    print(epoch)\n",
    "    for i, batch in enumerate(train_loader):\n",
    "        optimizer.zero_grad()\n",
    "        features, targets = batch\n",
    "        features = Variable(features.view(-1, 28*28))\n",
    "        targets = Variable(targets)\n",
    "        #out = net(features)\n",
    "        loss = tree_logloss(net.accum_probs(features, 1), targets)\n",
    "        loss.backward()\n",
    "        optimizer.step()\n",
    "        all_loss[i%200] = loss.data[0]\n",
    "        if i % 500 == 0:\n",
    "            print(all_loss.max(), all_loss.mean())"
   ]
  },
  {
   "cell_type": "code",
   "execution_count": 247,
   "metadata": {},
   "outputs": [],
   "source": [
    "net.eval()\n",
    "total = 0\n",
    "correct = 0\n",
    "for data in test_loader:\n",
    "    images, labels = data\n",
    "    features = Variable(images.view(-1, 28*28))\n",
    "    targets = Variable(labels)\n",
    "    outputs = net(features)\n",
    "    _, predicted = torch.max(outputs.data, 1)\n",
    "    total += labels.size(0)\n",
    "    correct += (predicted == targets.data).sum()"
   ]
  },
  {
   "cell_type": "code",
   "execution_count": 249,
   "metadata": {},
   "outputs": [
    {
     "data": {
      "text/plain": [
       "0.9594"
      ]
     },
     "execution_count": 249,
     "metadata": {},
     "output_type": "execute_result"
    }
   ],
   "source": [
    "correct/total"
   ]
  },
  {
   "cell_type": "code",
   "execution_count": 241,
   "metadata": {},
   "outputs": [
    {
     "data": {
      "image/png": "[encoded data removed]",
      "text/plain": [
       "<matplotlib.figure.Figure at 0x7fb2441c6390>"
      ]
     },
     "metadata": {},
     "output_type": "display_data"
    }
   ],
   "source": [
    "for data in test_loader:\n",
    "    images, labels = data\n",
    "    features = Variable(images.view(-1, 28*28))\n",
    "    break\n",
    "imshow(torchvision.utils.make_grid(images))"
   ]
  },
  {
   "cell_type": "code",
   "execution_count": 242,
   "metadata": {},
   "outputs": [
    {
     "data": {
      "text/plain": [
       "Variable containing:\n",
       "    0\n",
       "    6\n",
       "    0\n",
       "    2\n",
       "    1\n",
       "    7\n",
       "    0\n",
       "    0\n",
       "    5\n",
       "    0\n",
       "[torch.LongTensor of size 10x1]"
      ]
     },
     "execution_count": 242,
     "metadata": {},
     "output_type": "execute_result"
    }
   ],
   "source": [
    "net(features).topk(1)[1]"
   ]
  },
  {
   "cell_type": "code",
   "execution_count": 203,
   "metadata": {},
   "outputs": [
    {
     "data": {
      "text/plain": [
       "[[Variable containing:\n",
       "   0.3698\n",
       "   0.2354\n",
       "   0.4157\n",
       "   0.3729\n",
       "   0.2251\n",
       "   0.2064\n",
       "   0.4087\n",
       "   0.2474\n",
       "   0.2635\n",
       "   0.4449\n",
       "  [torch.FloatTensor of size 10x1], Variable containing:\n",
       "  -2.3399 -2.1639 -2.3609 -2.2783 -2.1904 -2.4916 -2.0536 -2.3836 -2.4639 -2.3885\n",
       "  -2.1216 -2.4151 -2.4126 -2.6590 -1.6693 -2.6165 -2.2584 -2.4090 -2.7313 -2.2054\n",
       "  -2.4880 -2.4315 -2.4022 -2.4181 -1.8086 -2.3845 -2.6030 -2.5302 -2.6341 -1.7844\n",
       "  -2.0468 -2.6011 -2.1479 -2.4624 -1.6819 -2.7388 -2.4847 -2.4772 -2.7785 -2.1664\n",
       "  -2.3826 -2.1342 -2.5188 -2.6239 -1.7700 -2.5679 -2.3595 -2.4636 -2.3183 -2.1962\n",
       "  -2.3078 -2.1739 -2.2567 -2.5060 -2.0410 -2.2095 -2.4665 -2.6322 -2.4764 -2.1204\n",
       "  -2.3445 -2.3085 -2.1451 -2.3394 -2.0232 -2.3128 -2.3955 -2.4376 -2.6927 -2.1730\n",
       "  -2.2243 -2.3504 -2.1915 -2.2503 -2.1237 -2.3369 -2.4652 -2.4607 -2.5458 -2.1678\n",
       "  -2.1088 -2.3997 -2.3813 -2.4653 -1.7977 -2.5648 -2.4795 -2.3994 -2.4307 -2.2508\n",
       "  -2.2055 -2.3440 -2.4924 -2.2513 -1.9905 -2.3058 -2.5462 -2.3740 -2.7144 -2.0262\n",
       "  [torch.FloatTensor of size 10x10]], [Variable containing:\n",
       "   0.2023\n",
       "   0.1906\n",
       "   0.1621\n",
       "   0.2027\n",
       "   0.1740\n",
       "   0.1510\n",
       "   0.1896\n",
       "   0.2189\n",
       "   0.1629\n",
       "   0.2151\n",
       "  [torch.FloatTensor of size 10x1], Variable containing:\n",
       "  -2.2569 -2.5454 -2.5742 -2.3005 -2.1076 -2.5349 -2.1206 -2.7611 -1.9849 -2.1279\n",
       "  -2.4451 -2.6875 -2.3200 -2.3655 -2.1850 -2.1116 -2.2056 -2.9604 -2.6360 -1.6825\n",
       "  -2.3834 -2.6501 -2.3430 -2.7408 -2.0373 -2.2899 -1.9419 -2.5356 -2.3370 -2.0744\n",
       "  -2.4487 -2.3131 -2.2839 -2.4450 -1.9862 -2.4141 -2.3860 -2.5837 -2.3289 -2.0064\n",
       "  -2.2261 -2.3297 -2.4047 -2.5586 -1.8194 -2.6201 -2.3084 -2.5271 -2.3853 -2.1143\n",
       "  -2.1807 -2.3491 -2.3505 -2.7096 -1.8642 -2.5442 -2.2515 -2.9250 -2.2278 -2.0442\n",
       "  -2.6483 -2.6981 -2.3016 -2.0978 -2.2082 -2.0539 -2.2294 -2.7597 -2.4333 -1.9499\n",
       "  -2.2478 -2.2413 -2.4525 -2.5767 -2.0437 -2.4021 -2.3375 -2.4862 -2.2122 -2.1488\n",
       "  -2.4977 -2.5281 -2.4488 -2.2869 -2.1380 -2.2083 -1.8268 -3.1076 -2.3182 -2.1365\n",
       "  -2.4699 -2.7363 -2.6291 -2.4751 -2.0599 -2.2217 -2.0199 -2.6189 -2.3804 -1.8304\n",
       "  [torch.FloatTensor of size 10x10]], [Variable containing:\n",
       "   0.1500\n",
       "   0.3105\n",
       "   0.2761\n",
       "   0.2324\n",
       "   0.2885\n",
       "   0.3726\n",
       "   0.1900\n",
       "   0.2491\n",
       "   0.3863\n",
       "   0.2082\n",
       "  [torch.FloatTensor of size 10x1], Variable containing:\n",
       "  -2.4817 -2.3642 -2.1983 -1.9154 -2.3731 -2.7804 -2.2032 -2.2981 -2.0585 -2.6541\n",
       "  -2.2064 -2.4536 -2.2016 -2.3988 -2.6483 -2.4926 -2.2052 -2.0613 -1.9969 -2.5804\n",
       "  -2.3893 -2.3988 -2.2491 -2.2453 -2.7599 -2.7506 -2.4298 -2.0722 -1.8780 -2.1888\n",
       "  -2.0625 -2.3683 -2.3006 -2.3478 -2.4261 -2.5231 -2.3741 -2.1183 -2.1168 -2.5119\n",
       "  -2.1519 -2.4635 -2.1356 -2.4990 -2.5157 -2.7174 -2.1439 -2.1402 -2.0791 -2.3911\n",
       "  -2.1935 -2.4856 -2.1152 -2.3038 -2.6395 -2.2836 -2.3762 -2.1854 -2.1379 -2.4285\n",
       "  -2.5971 -2.3147 -2.3334 -2.3930 -2.8668 -2.2828 -2.2946 -1.8863 -2.2348 -2.1196\n",
       "  -2.2864 -2.5329 -2.0351 -2.3958 -2.5697 -2.4568 -2.3227 -2.2779 -2.1953 -2.0951\n",
       "  -2.0718 -2.4249 -2.0082 -2.2583 -2.6010 -2.4901 -2.2718 -2.2870 -2.2867 -2.4840\n",
       "  -2.3552 -2.3983 -2.4342 -2.0001 -2.7633 -2.2410 -2.2048 -2.1984 -2.0981 -2.5525\n",
       "  [torch.FloatTensor of size 10x10]], [Variable containing:\n",
       "   0.2779\n",
       "   0.2635\n",
       "   0.1462\n",
       "   0.1921\n",
       "   0.3125\n",
       "   0.2700\n",
       "   0.2118\n",
       "   0.2846\n",
       "   0.1874\n",
       "   0.1318\n",
       "  [torch.FloatTensor of size 10x1], Variable containing:\n",
       "  -2.0202 -2.7773 -2.2261 -3.0488 -2.0712 -2.1249 -2.8210 -2.3672 -2.6582 -1.7096\n",
       "  -2.2793 -2.5752 -2.2229 -2.5985 -1.9750 -2.0436 -2.6261 -2.2669 -2.6588 -2.0836\n",
       "  -2.4425 -2.5047 -2.0331 -3.1652 -1.9747 -2.3755 -2.9745 -2.3336 -2.3832 -1.6812\n",
       "  -2.3871 -2.4521 -2.1144 -2.6191 -2.0074 -2.0013 -2.8200 -2.4763 -2.4886 -2.0231\n",
       "  -2.2924 -2.8884 -1.9500 -2.8363 -2.3087 -2.3323 -2.6735 -2.1520 -2.1936 -1.9028\n",
       "  -2.1175 -2.9577 -2.2281 -2.8066 -2.3852 -2.4515 -2.2564 -2.1483 -2.1329 -1.9558\n",
       "  -2.3571 -2.5275 -1.9558 -2.5176 -2.2382 -1.9458 -2.5646 -2.4793 -2.6922 -2.0768\n",
       "  -1.9875 -2.6472 -2.1512 -2.6528 -2.2528 -2.2752 -2.2276 -2.3790 -2.5602 -2.1226\n",
       "  -2.2645 -2.6293 -2.2626 -2.8512 -2.1600 -2.1147 -2.4079 -2.2015 -2.5672 -1.9054\n",
       "  -2.5309 -2.1781 -1.7692 -2.5671 -2.4131 -2.2603 -2.6826 -2.6715 -2.5922 -1.8729\n",
       "  [torch.FloatTensor of size 10x10]]]"
      ]
     },
     "execution_count": 203,
     "metadata": {},
     "output_type": "execute_result"
    }
   ],
   "source": [
    "net.accum_probs(features, 1)"
   ]
  },
  {
   "cell_type": "code",
   "execution_count": 153,
   "metadata": {},
   "outputs": [
    {
     "data": {
      "text/plain": [
       "Variable containing:\n",
       " 0.5197  0.4803\n",
       "[torch.FloatTensor of size 1x2]"
      ]
     },
     "execution_count": 153,
     "metadata": {},
     "output_type": "execute_result"
    }
   ],
   "source": [
    "cp[0][1]"
   ]
  },
  {
   "cell_type": "code",
   "execution_count": 154,
   "metadata": {},
   "outputs": [],
   "source": [
    "criterion = nn.NLLLoss()"
   ]
  },
  {
   "cell_type": "code",
   "execution_count": 157,
   "metadata": {},
   "outputs": [
    {
     "data": {
      "text/plain": [
       "Variable containing:\n",
       "-0.4803\n",
       "[torch.FloatTensor of size 1]"
      ]
     },
     "execution_count": 157,
     "metadata": {},
     "output_type": "execute_result"
    }
   ],
   "source": [
    "criterion(p[0][1], t)"
   ]
  },
  {
   "cell_type": "code",
   "execution_count": 59,
   "metadata": {
    "scrolled": true
   },
   "outputs": [],
   "source": [
    "l = Leaf(20, 2)"
   ]
  },
  {
   "cell_type": "code",
   "execution_count": 60,
   "metadata": {},
   "outputs": [
    {
     "data": {
      "text/plain": [
       "Variable containing:\n",
       " 0.7010  0.2990\n",
       " 0.4587  0.5413\n",
       " 0.6445  0.3555\n",
       " 0.6523  0.3477\n",
       " 0.5520  0.4480\n",
       " 0.5729  0.4271\n",
       " 0.4309  0.5691\n",
       " 0.6113  0.3887\n",
       " 0.5364  0.4636\n",
       " 0.4727  0.5273\n",
       " 0.5744  0.4256\n",
       " 0.4254  0.5746\n",
       " 0.6120  0.3880\n",
       " 0.3881  0.6119\n",
       " 0.4329  0.5671\n",
       " 0.6215  0.3785\n",
       " 0.5566  0.4434\n",
       " 0.4899  0.5101\n",
       " 0.5596  0.4404\n",
       " 0.4213  0.5787\n",
       " 0.5454  0.4546\n",
       " 0.6407  0.3593\n",
       " 0.7366  0.2634\n",
       " 0.5357  0.4643\n",
       " 0.4664  0.5336\n",
       " 0.4837  0.5163\n",
       " 0.4695  0.5305\n",
       " 0.3931  0.6069\n",
       " 0.4598  0.5402\n",
       " 0.5820  0.4180\n",
       " 0.5449  0.4551\n",
       " 0.5599  0.4401\n",
       " 0.5203  0.4797\n",
       " 0.4539  0.5461\n",
       " 0.4069  0.5931\n",
       " 0.4765  0.5235\n",
       " 0.6093  0.3907\n",
       " 0.5651  0.4349\n",
       " 0.5195  0.4805\n",
       " 0.7444  0.2556\n",
       " 0.4269  0.5731\n",
       " 0.4473  0.5527\n",
       " 0.5124  0.4876\n",
       " 0.4995  0.5005\n",
       " 0.7357  0.2643\n",
       " 0.5297  0.4703\n",
       " 0.5353  0.4647\n",
       " 0.5564  0.4436\n",
       " 0.4799  0.5201\n",
       " 0.4594  0.5406\n",
       " 0.4223  0.5777\n",
       " 0.6069  0.3931\n",
       " 0.5184  0.4816\n",
       " 0.2934  0.7066\n",
       " 0.4795  0.5205\n",
       " 0.4228  0.5772\n",
       " 0.4746  0.5254\n",
       " 0.4543  0.5457\n",
       " 0.4915  0.5085\n",
       " 0.7506  0.2494\n",
       " 0.3913  0.6087\n",
       " 0.5906  0.4094\n",
       " 0.6700  0.3300\n",
       " 0.4345  0.5655\n",
       " 0.4025  0.5975\n",
       " 0.5730  0.4270\n",
       " 0.4163  0.5837\n",
       " 0.5017  0.4983\n",
       " 0.4581  0.5419\n",
       " 0.5740  0.4260\n",
       " 0.5664  0.4336\n",
       " 0.4470  0.5530\n",
       " 0.4716  0.5284\n",
       " 0.4761  0.5239\n",
       " 0.4448  0.5552\n",
       " 0.5357  0.4643\n",
       " 0.4385  0.5615\n",
       " 0.5305  0.4695\n",
       " 0.5145  0.4855\n",
       " 0.5347  0.4653\n",
       " 0.4728  0.5272\n",
       " 0.4666  0.5334\n",
       " 0.3363  0.6637\n",
       " 0.6276  0.3724\n",
       " 0.4739  0.5261\n",
       " 0.5521  0.4479\n",
       " 0.5093  0.4907\n",
       " 0.4782  0.5218\n",
       " 0.5116  0.4884\n",
       " 0.5564  0.4436\n",
       " 0.4297  0.5703\n",
       " 0.3842  0.6158\n",
       " 0.3599  0.6401\n",
       " 0.4299  0.5701\n",
       " 0.5588  0.4412\n",
       " 0.4090  0.5910\n",
       " 0.3622  0.6378\n",
       " 0.5353  0.4647\n",
       " 0.4537  0.5463\n",
       " 0.6025  0.3975\n",
       "[torch.FloatTensor of size 100x2]"
      ]
     },
     "execution_count": 60,
     "metadata": {},
     "output_type": "execute_result"
    }
   ],
   "source": [
    "l(f)"
   ]
  },
  {
   "cell_type": "code",
   "execution_count": 58,
   "metadata": {},
   "outputs": [
    {
     "data": {
      "text/plain": [
       "torch.Size([100, 20])"
      ]
     },
     "execution_count": 58,
     "metadata": {},
     "output_type": "execute_result"
    }
   ],
   "source": [
    "f.shape"
   ]
  },
  {
   "cell_type": "code",
   "execution_count": 25,
   "metadata": {},
   "outputs": [
    {
     "data": {
      "text/plain": [
       "Variable containing:\n",
       " 0.5568\n",
       " 0.4157\n",
       " 0.6472\n",
       " 0.5052\n",
       " 0.7840\n",
       " 0.5970\n",
       " 0.5989\n",
       " 0.6032\n",
       " 0.5259\n",
       " 0.4826\n",
       " 0.5710\n",
       " 0.3354\n",
       " 0.6097\n",
       " 0.2600\n",
       " 0.4450\n",
       " 0.4455\n",
       " 0.6031\n",
       " 0.4423\n",
       " 0.6174\n",
       " 0.5324\n",
       " 0.4664\n",
       " 0.6138\n",
       " 0.3941\n",
       " 0.4854\n",
       " 0.3821\n",
       " 0.5882\n",
       " 0.6332\n",
       " 0.6062\n",
       " 0.2798\n",
       " 0.4175\n",
       " 0.4970\n",
       " 0.4680\n",
       " 0.4224\n",
       " 0.5263\n",
       " 0.3459\n",
       " 0.3255\n",
       " 0.5238\n",
       " 0.5932\n",
       " 0.4105\n",
       " 0.5355\n",
       " 0.6300\n",
       " 0.5799\n",
       " 0.5868\n",
       " 0.6435\n",
       " 0.6820\n",
       " 0.3809\n",
       " 0.5247\n",
       " 0.5251\n",
       " 0.4482\n",
       " 0.5785\n",
       " 0.3621\n",
       " 0.5591\n",
       " 0.4758\n",
       " 0.3217\n",
       " 0.5141\n",
       " 0.3364\n",
       " 0.6387\n",
       " 0.6046\n",
       " 0.4159\n",
       " 0.6508\n",
       " 0.2434\n",
       " 0.4416\n",
       " 0.7236\n",
       " 0.2498\n",
       " 0.3928\n",
       " 0.5419\n",
       " 0.6580\n",
       " 0.4069\n",
       " 0.4864\n",
       " 0.5594\n",
       " 0.5003\n",
       " 0.4538\n",
       " 0.4237\n",
       " 0.4355\n",
       " 0.4910\n",
       " 0.4696\n",
       " 0.6194\n",
       " 0.6092\n",
       " 0.5075\n",
       " 0.5751\n",
       " 0.5980\n",
       " 0.5513\n",
       " 0.3349\n",
       " 0.5950\n",
       " 0.4625\n",
       " 0.4790\n",
       " 0.5537\n",
       " 0.3851\n",
       " 0.6574\n",
       " 0.5526\n",
       " 0.3472\n",
       " 0.4050\n",
       " 0.5815\n",
       " 0.3393\n",
       " 0.3553\n",
       " 0.2930\n",
       " 0.1914\n",
       " 0.4552\n",
       " 0.1965\n",
       " 0.5975\n",
       "[torch.FloatTensor of size 100x1]"
      ]
     },
     "execution_count": 25,
     "metadata": {},
     "output_type": "execute_result"
    }
   ],
   "source": [
    "n(f)"
   ]
  },
  {
   "cell_type": "code",
   "execution_count": null,
   "metadata": {},
   "outputs": [],
   "source": []
  }
 ],
 "metadata": {
  "kernelspec": {
   "display_name": "Python 3",
   "language": "python",
   "name": "python3"
  },
  "language_info": {
   "codemirror_mode": {
    "name": "ipython",
    "version": 3
   },
   "file_extension": ".py",
   "mimetype": "text/x-python",
   "name": "python",
   "nbconvert_exporter": "python",
   "pygments_lexer": "ipython3",
   "version": "3.6.2"
  }
 },
 "nbformat": 4,
 "nbformat_minor": 2
}
