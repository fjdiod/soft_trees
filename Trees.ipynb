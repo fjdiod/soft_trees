{
 "cells": [
  {
   "cell_type": "code",
   "execution_count": 218,
   "metadata": {},
   "outputs": [],
   "source": [
    "import torch\n",
    "from torch import nn\n",
    "from torch.autograd import Variable\n",
    "from torchvision import datasets, transforms\n",
    "import torchvision\n",
    "import matplotlib.pyplot as plt\n",
    "import numpy as np\n",
    "from torch import optim\n",
    "from sklearn.metrics import accuracy_score\n",
    "%matplotlib inline"
   ]
  },
  {
   "cell_type": "code",
   "execution_count": 7,
   "metadata": {},
   "outputs": [],
   "source": [
    "bsz = 10\n",
    "\n",
    "train_loader = torch.utils.data.DataLoader(\n",
    "        datasets.MNIST('../data', train=True, download=True,\n",
    "                       transform=transforms.Compose([\n",
    "                           transforms.ToTensor(),\n",
    "                           transforms.Normalize((0.1307,), (0.3081,))\n",
    "                       ])),\n",
    "        batch_size=bsz, shuffle=True)\n",
    "test_loader = torch.utils.data.DataLoader(\n",
    "        datasets.MNIST('../data', train=False, transform=transforms.Compose([\n",
    "                           transforms.ToTensor(),\n",
    "                           transforms.Normalize((0.1307,), (0.3081,))\n",
    "                       ])),\n",
    "batch_size=bsz, shuffle=True)"
   ]
  },
  {
   "cell_type": "code",
   "execution_count": 8,
   "metadata": {},
   "outputs": [
    {
     "name": "stdout",
     "output_type": "stream",
     "text": [
      "    7     6     8     0\n"
     ]
    },
    {
     "data": {
      "image/png": "[encoded data removed]",
      "text/plain": [
       "<matplotlib.figure.Figure at 0x7f274d77b2e8>"
      ]
     },
     "metadata": {},
     "output_type": "display_data"
    }
   ],
   "source": [
    "# functions to show an image\n",
    "def imshow(img):\n",
    "    img = img / 2 + 0.5     # unnormalize\n",
    "    npimg = img.numpy()\n",
    "    plt.imshow(np.transpose(npimg, (1, 2, 0)))\n",
    "\n",
    "# get some random training images\n",
    "dataiter = iter(train_loader)\n",
    "images, labels = dataiter.next()\n",
    "\n",
    "# show images\n",
    "imshow(torchvision.utils.make_grid(images))\n",
    "# print labels\n",
    "classes = list(range(10))\n",
    "print(' '.join('%5s' % classes[labels[j]] for j in range(4)))"
   ]
  },
  {
   "cell_type": "code",
   "execution_count": 244,
   "metadata": {},
   "outputs": [],
   "source": [
    "EPS = 1e-10\n",
    "\n",
    "class Leaf(nn.Module):\n",
    "    def __init__(self, i_size, o_size, h_size=128):\n",
    "        super(Leaf, self).__init__()\n",
    "        self.i2h = nn.Linear(i_size, h_size)\n",
    "        self.h2o = nn.Linear(h_size, o_size)\n",
    "        self.soft = nn.LogSoftmax(1)\n",
    "        self.relu = nn.ReLU()\n",
    "        self.is_leaf = True\n",
    "\n",
    "    def forward(self, features):\n",
    "        out = self.i2h(features)\n",
    "        out = self.relu(out)\n",
    "        out = self.h2o(out)\n",
    "        return self.soft(out)\n",
    "\n",
    "    def accum_probs(self, features, path_prob):\n",
    "        return [[path_prob, self.forward(features)]]\n",
    "\n",
    "    def calc_regularization(self, features, path_prob):\n",
    "        return 0\n",
    "\n",
    "class Node(nn.Module):\n",
    "    def __init__(self, i_size, o_size):\n",
    "        super(Node, self).__init__()\n",
    "        self.o_size = o_size\n",
    "        self.i_size = i_size\n",
    "        self.i2o = nn.Linear(i_size, 1)\n",
    "        self.sigmoid = nn.Sigmoid()\n",
    "        self.is_leaf = False\n",
    "    \n",
    "    def build_tree(self, depth):\n",
    "        if depth - 1 < 0:\n",
    "            raise ValueError(\"Depth must be greater than zero.\")\n",
    "        if depth - 1 > 0:\n",
    "            self.left = Node(self.i_size, self.o_size)\n",
    "            self.right = Node(self.i_size, self.o_size)\n",
    "            self.left.build_tree(depth - 1)\n",
    "            self.right.build_tree(depth - 1)\n",
    "        else:\n",
    "            self.left = Leaf(self.i_size, self.o_size)\n",
    "            self.right = Leaf(self.i_size, self.o_size)\n",
    "\n",
    "    def forward(self, features):\n",
    "        pr = self.prob_left(features)\n",
    "        return pr*self.left(features) + (1 - pr)*self.right(features)\n",
    "\n",
    "    def prob_left(self, features):\n",
    "        return self.sigmoid(self.i2o(features))\n",
    "\n",
    "    def accum_probs(self, features, path_prob):\n",
    "        res = []\n",
    "        p_l = self.sigmoid(self.i2o(features)).squeeze()\n",
    "        res_l = self.left.accum_probs(features, p_l*path_prob)\n",
    "        res_r = self.right.accum_probs(features, (1 - p_l)*path_prob)\n",
    "        res.extend(res_l)\n",
    "        res.extend(res_r)\n",
    "        return res\n",
    "\n",
    "    def calc_regularization(self, features, path_prob):\n",
    "        p_l = self.prob_left(features).squeeze()\n",
    "        alpha = (path_prob*p_l).sum()/(path_prob.sum())\n",
    "        C_here = -0.5*torch.log(alpha + EPS) - 0.5*torch.log(1 - alpha + EPS)\n",
    "        C = self.left.calc_regularization(features, p_l*path_prob) + \\\n",
    "                        self.right.calc_regularization(features, (1 - p_l)*path_prob)\n",
    "        C = C + C_here\n",
    "        return C\n",
    "        \n",
    "\n",
    "def tree_loss(path_probs, y_true, C, gamma):\n",
    "    loss = 0\n",
    "    criterion = nn.NLLLoss(reduce=False)\n",
    "    for p, pred in path_probs:\n",
    "        loss += (p*criterion(pred, y_true)).mean()\n",
    "    return loss.mean() + gamma*C\n",
    "\n",
    "def tree_logloss(path_probs, y_true):\n",
    "    \"\"\"\n",
    "    Original loss from paper\n",
    "    \"\"\"\n",
    "    loss = 0\n",
    "    criterion = nn.NLLLoss()\n",
    "    for p, pred in path_probs:\n",
    "        loss -= (p.squeeze()*criterion(pred, y_true)).mean()\n",
    "    return -torch.log(loss.mean())\n",
    "\n",
    "def train(model, batches_train, batches_val, n_epoch=5, gamma=0.1,\n",
    "          criterion=tree_loss, val_every=500, print_every=100):\n",
    "    model.train()\n",
    "    optimizer = optim.Adam(model.parameters())\n",
    "    all_losses = np.zeros(print_every)\n",
    "    plot_train = []\n",
    "    plot_val = []\n",
    "    for epoch in range(n_epoch):\n",
    "        print('Epoch: {}'.format(epoch))\n",
    "        for i, batch in enumerate(batches_train):\n",
    "            optimizer.zero_grad()\n",
    "            features, targets = batch\n",
    "            features = Variable(features.view(-1, 28*28))\n",
    "            targets = Variable(targets)\n",
    "            prb = model.accum_probs(features, Variable(torch.Tensor([1]*targets.shape[0])))\n",
    "            C = model.calc_regularization(features, Variable(torch.Tensor([1]*targets.shape[0])))\n",
    "            loss = tree_loss(prb, targets, C, gamma=gamma)\n",
    "            loss.backward()\n",
    "            optimizer.step()\n",
    "            plot_train += [loss.data[0]]\n",
    "            all_losses[(i + 1)%print_every] = loss.data[0]\n",
    "            if (i + 1) % print_every == 0:\n",
    "                print(all_losses.max(), all_losses.mean())\n",
    "            if (i + 1) % val_every == 0:\n",
    "                plot_val += [validate(model, batches_val)]\n",
    "    return plot_train, plot_val\n",
    "\n",
    "def validate(model, batches_val):\n",
    "    model.eval()\n",
    "    y_pred = []\n",
    "    y_true = []\n",
    "    for batch in batches_val:\n",
    "        features, targets = batch\n",
    "        y_true += targets.tolist()\n",
    "        y_pred += model(Variable(features.view(-1, 28*28))).topk(1)[1].squeeze().data.tolist()\n",
    "    model.train()\n",
    "    return accuracy_score(y_true, y_pred)"
   ]
  },
  {
   "cell_type": "code",
   "execution_count": 249,
   "metadata": {},
   "outputs": [],
   "source": [
    "net = Node(28*28, 10)"
   ]
  },
  {
   "cell_type": "code",
   "execution_count": 250,
   "metadata": {},
   "outputs": [],
   "source": [
    "net.build_tree(2)"
   ]
  },
  {
   "cell_type": "code",
   "execution_count": 251,
   "metadata": {},
   "outputs": [
    {
     "data": {
      "text/plain": [
       "0.0883"
      ]
     },
     "execution_count": 251,
     "metadata": {},
     "output_type": "execute_result"
    }
   ],
   "source": [
    "validate(net, test_loader)"
   ]
  },
  {
   "cell_type": "code",
   "execution_count": 252,
   "metadata": {
    "scrolled": true
   },
   "outputs": [
    {
     "name": "stdout",
     "output_type": "stream",
     "text": [
      "Epoch: 0\n",
      "2.3208134174346924 0.9850304496288299\n",
      "1.124450922012329 0.4424265518411994\n",
      "1.487255573272705 0.39970444157719615\n",
      "1.1348315477371216 0.3702938113361597\n",
      "1.466813564300537 0.3933159306133166\n",
      "1.6960644721984863 0.3138192646577954\n",
      "1.217405080795288 0.30514644775539634\n",
      "1.1556371450424194 0.29529811756685376\n",
      "1.191265344619751 0.22567772466689348\n",
      "1.8193292617797852 0.27397711247205736\n",
      "1.23622465133667 0.2687176687456667\n",
      "1.2653847932815552 0.22984152415767312\n",
      "1.8631157875061035 0.19994493345264344\n",
      "1.286694884300232 0.2698298747185618\n",
      "2.304396152496338 0.21439555362798274\n",
      "1.6031297445297241 0.24639692983357236\n",
      "1.064756155014038 0.22799287303350865\n",
      "1.0995135307312012 0.2082734259031713\n",
      "1.0551551580429077 0.20649951677769424\n",
      "1.0215766429901123 0.25772748090326786\n",
      "0.7689920663833618 0.17644611961208284\n",
      "1.0986156463623047 0.18222827931400387\n",
      "1.1006221771240234 0.16866874655243008\n",
      "0.8370348215103149 0.17149998996872454\n",
      "1.397258996963501 0.16925717217149214\n",
      "1.1604899168014526 0.20883429812733084\n",
      "0.8361403346061707 0.17829439171589911\n",
      "1.0696121454238892 0.15313711863942445\n",
      "0.8889804482460022 0.1469799780426547\n",
      "0.7911593317985535 0.11512288965983317\n",
      "1.3839755058288574 0.16378633158979938\n",
      "0.8525345325469971 0.1707738986320328\n",
      "1.0671029090881348 0.17591319049708545\n",
      "0.9335495233535767 0.16334078460931778\n",
      "0.7481372356414795 0.172690078986343\n",
      "1.143003225326538 0.13502014294732362\n",
      "0.6795305013656616 0.1392819927376695\n",
      "1.4145958423614502 0.15149038768431639\n",
      "0.991976797580719 0.1343320899049286\n",
      "1.0135029554367065 0.1405631335428916\n",
      "1.165534496307373 0.179615306679043\n",
      "1.126476764678955 0.14920794221223332\n",
      "1.3399792909622192 0.20933078387752174\n",
      "0.7174442410469055 0.13387076538288967\n",
      "0.9662591218948364 0.1236598418536596\n",
      "1.1802544593811035 0.16196205306681805\n",
      "1.2636271715164185 0.13309095038857777\n",
      "0.5890356302261353 0.10510191385401413\n",
      "0.9154562950134277 0.15658470588503406\n",
      "1.0138267278671265 0.13859826664207503\n",
      "0.8046207427978516 0.12664143761619925\n",
      "1.191956877708435 0.14940872391103766\n",
      "1.6261845827102661 0.1756876912410371\n",
      "1.0684453248977661 0.12140343839768321\n",
      "2.283851146697998 0.11533851633837912\n",
      "0.8713347315788269 0.14415901546075474\n",
      "0.9744457006454468 0.12392199873924255\n",
      "0.7241734862327576 0.11982066660420969\n",
      "1.3630993366241455 0.13718239458132303\n",
      "1.0163742303848267 0.12103703456756193\n"
     ]
    }
   ],
   "source": [
    "training, testing = train(net, train_loader, test_loader, gamma=0, n_epoch=1)"
   ]
  },
  {
   "cell_type": "code",
   "execution_count": 253,
   "metadata": {},
   "outputs": [
    {
     "data": {
      "text/plain": [
       "0.9634"
      ]
     },
     "execution_count": 253,
     "metadata": {},
     "output_type": "execute_result"
    }
   ],
   "source": [
    "validate(net, test_loader)"
   ]
  },
  {
   "cell_type": "code",
   "execution_count": 254,
   "metadata": {},
   "outputs": [
    {
     "data": {
      "text/plain": [
       "[<matplotlib.lines.Line2D at 0x7f2712d93f98>]"
      ]
     },
     "execution_count": 254,
     "metadata": {},
     "output_type": "execute_result"
    },
    {
     "data": {
      "image/png": "[encoded data removed]",
      "text/plain": [
       "<matplotlib.figure.Figure at 0x7f2712d55e48>"
      ]
     },
     "metadata": {},
     "output_type": "display_data"
    }
   ],
   "source": [
    "plt.plot(training)"
   ]
  },
  {
   "cell_type": "code",
   "execution_count": 255,
   "metadata": {},
   "outputs": [
    {
     "data": {
      "text/plain": [
       "[<matplotlib.lines.Line2D at 0x7f2711bb7668>]"
      ]
     },
     "execution_count": 255,
     "metadata": {},
     "output_type": "execute_result"
    },
    {
     "data": {
      "image/png": "[encoded data removed]",
      "text/plain": [
       "<matplotlib.figure.Figure at 0x7f2712d23ef0>"
      ]
     },
     "metadata": {},
     "output_type": "display_data"
    }
   ],
   "source": [
    "plt.plot(testing)"
   ]
  },
  {
   "cell_type": "code",
   "execution_count": 256,
   "metadata": {},
   "outputs": [
    {
     "data": {
      "image/png": "[encoded data removed]",
      "text/plain": [
       "<matplotlib.figure.Figure at 0x7f2711bff4a8>"
      ]
     },
     "metadata": {},
     "output_type": "display_data"
    }
   ],
   "source": [
    "for data in test_loader:\n",
    "    images, labels = data\n",
    "    features = Variable(images.view(-1, 28*28))\n",
    "    break\n",
    "imshow(torchvision.utils.make_grid(images))"
   ]
  },
  {
   "cell_type": "code",
   "execution_count": 257,
   "metadata": {},
   "outputs": [
    {
     "data": {
      "text/plain": [
       "Variable containing:\n",
       "    7\n",
       "    8\n",
       "    1\n",
       "    3\n",
       "    2\n",
       "    0\n",
       "    6\n",
       "    7\n",
       "    6\n",
       "    2\n",
       "[torch.LongTensor of size 10x1]"
      ]
     },
     "execution_count": 257,
     "metadata": {},
     "output_type": "execute_result"
    }
   ],
   "source": [
    "net(features).topk(1)[1]"
   ]
  },
  {
   "cell_type": "code",
   "execution_count": null,
   "metadata": {},
   "outputs": [],
   "source": []
  }
 ],
 "metadata": {
  "kernelspec": {
   "display_name": "Python 3",
   "language": "python",
   "name": "python3"
  },
  "language_info": {
   "codemirror_mode": {
    "name": "ipython",
    "version": 3
   },
   "file_extension": ".py",
   "mimetype": "text/x-python",
   "name": "python",
   "nbconvert_exporter": "python",
   "pygments_lexer": "ipython3",
   "version": "3.6.2"
  }
 },
 "nbformat": 4,
 "nbformat_minor": 2
}
