{
 "cells": [
  {
   "cell_type": "code",
   "execution_count": 188,
   "metadata": {},
   "outputs": [],
   "source": [
    "import torch\n",
    "from torch import nn\n",
    "from torch.autograd import Variable\n",
    "from torchvision import datasets, transforms\n",
    "import torchvision\n",
    "import matplotlib.pyplot as plt\n",
    "import numpy as np\n",
    "from torch import optim\n",
    "%matplotlib inline"
   ]
  },
  {
   "cell_type": "code",
   "execution_count": 2,
   "metadata": {},
   "outputs": [],
   "source": [
    "bsz = 10\n",
    "\n",
    "train_loader = torch.utils.data.DataLoader(\n",
    "        datasets.MNIST('../data', train=True, download=True,\n",
    "                       transform=transforms.Compose([\n",
    "                           transforms.ToTensor(),\n",
    "                           transforms.Normalize((0.1307,), (0.3081,))\n",
    "                       ])),\n",
    "        batch_size=bsz, shuffle=True)\n",
    "test_loader = torch.utils.data.DataLoader(\n",
    "        datasets.MNIST('../data', train=False, transform=transforms.Compose([\n",
    "                           transforms.ToTensor(),\n",
    "                           transforms.Normalize((0.1307,), (0.3081,))\n",
    "                       ])),\n",
    "batch_size=bsz, shuffle=True)"
   ]
  },
  {
   "cell_type": "code",
   "execution_count": 3,
   "metadata": {},
   "outputs": [
    {
     "name": "stdout",
     "output_type": "stream",
     "text": [
      "    4     2     5     0\n"
     ]
    },
    {
     "data": {
      "image/png": "[encoded data removed]",
      "text/plain": [
       "<matplotlib.figure.Figure at 0x7fb24aa0de80>"
      ]
     },
     "metadata": {},
     "output_type": "display_data"
    }
   ],
   "source": [
    "# functions to show an image\n",
    "def imshow(img):\n",
    "    img = img / 2 + 0.5     # unnormalize\n",
    "    npimg = img.numpy()\n",
    "    plt.imshow(np.transpose(npimg, (1, 2, 0)))\n",
    "\n",
    "# get some random training images\n",
    "dataiter = iter(train_loader)\n",
    "images, labels = dataiter.next()\n",
    "\n",
    "# show images\n",
    "imshow(torchvision.utils.make_grid(images))\n",
    "# print labels\n",
    "classes = list(range(10))\n",
    "print(' '.join('%5s' % classes[labels[j]] for j in range(4)))"
   ]
  },
  {
   "cell_type": "code",
   "execution_count": 210,
   "metadata": {},
   "outputs": [],
   "source": [
    "class Leaf(nn.Module):\n",
    "    def __init__(self, i_size, o_size, h_size=128):\n",
    "        super(Leaf, self).__init__()\n",
    "        self.i2h = nn.Linear(i_size, h_size)\n",
    "        self.h2o = nn.Linear(h_size, o_size)\n",
    "        self.soft = nn.LogSoftmax(1)\n",
    "        self.relu = nn.ReLU()\n",
    "        self.is_leaf = True\n",
    "\n",
    "    def forward(self, features):\n",
    "        out = self.i2h(features)\n",
    "        out = self.relu(out)\n",
    "        out = self.h2o(out)\n",
    "        return self.soft(out)\n",
    "\n",
    "    def accum_probs(self, features, path_prob):\n",
    "        return [[path_prob, self.forward(features)]]\n",
    "\n",
    "class Node(nn.Module):\n",
    "    def __init__(self, i_size, o_size):\n",
    "        super(Node, self).__init__()\n",
    "        self.o_size = o_size\n",
    "        self.i_size = i_size\n",
    "        self.i2o = nn.Linear(i_size, 1)\n",
    "        self.sigmoid = nn.Sigmoid()\n",
    "        self.is_leaf = False\n",
    "    \n",
    "    def build_tree(self, depth):\n",
    "        if depth < 0:\n",
    "            raise NotImplementedError\n",
    "        if depth - 1 > 0:\n",
    "            self.left = Node(self.i_size, self.o_size)\n",
    "            self.right = Node(self.i_size, self.o_size)\n",
    "            self.left.build_tree(depth - 1)\n",
    "            self.right.build_tree(depth - 1)\n",
    "        else:\n",
    "            self.left = Leaf(self.i_size, self.o_size)\n",
    "            self.right = Leaf(self.i_size, self.o_size)\n",
    "\n",
    "    def forward(self, features):\n",
    "        pr = self.prob_left(features)\n",
    "        return pr*self.left(features) + (1 - pr)*self.right(features)\n",
    "\n",
    "    def prob_left(self, features):\n",
    "        return self.sigmoid(self.i2o(features))\n",
    "\n",
    "    def accum_probs(self, features, path_prob):\n",
    "        res = []\n",
    "        p_l = self.sigmoid(self.i2o(features))\n",
    "        res_l = self.left.accum_probs(features, p_l*path_prob)\n",
    "        res_r = self.right.accum_probs(features, (1 - p_l)*path_prob)\n",
    "        res.extend(res_l)\n",
    "        res.extend(res_r)\n",
    "        return res\n",
    "\n",
    "def tree_loss(path_probs, y_true):\n",
    "    loss = 0\n",
    "    criterion = nn.NLLLoss()\n",
    "    for p, pred in path_probs:\n",
    "        loss += p*criterion(pred, y_true)\n",
    "    return loss.mean()"
   ]
  },
  {
   "cell_type": "code",
   "execution_count": 190,
   "metadata": {},
   "outputs": [],
   "source": [
    "net = Node(28*28, 10)"
   ]
  },
  {
   "cell_type": "code",
   "execution_count": 204,
   "metadata": {},
   "outputs": [],
   "source": [
    "net.build_tree(2)"
   ]
  },
  {
   "cell_type": "code",
   "execution_count": 206,
   "metadata": {},
   "outputs": [
    {
     "data": {
      "text/plain": [
       "Variable containing:\n",
       " 0.5721\n",
       " 0.4260\n",
       " 0.5777\n",
       " 0.5755\n",
       " 0.3990\n",
       " 0.3574\n",
       " 0.5983\n",
       " 0.4663\n",
       " 0.4264\n",
       " 0.6600\n",
       "[torch.FloatTensor of size 10x1]"
      ]
     },
     "execution_count": 206,
     "metadata": {},
     "output_type": "execute_result"
    }
   ],
   "source": [
    "net.prob_left(features)"
   ]
  },
  {
   "cell_type": "code",
   "execution_count": 142,
   "metadata": {},
   "outputs": [],
   "source": [
    "f = Variable(torch.randn((1, 20)))"
   ]
  },
  {
   "cell_type": "code",
   "execution_count": null,
   "metadata": {},
   "outputs": [
    {
     "name": "stdout",
     "output_type": "stream",
     "text": [
      "0.043891262263059616\n",
      "0.15080323815345764\n",
      "0.03752101957798004\n",
      "0.002162653487175703\n",
      "0.0009368352475576103\n",
      "0.010653233155608177\n",
      "0.05559002608060837\n",
      "0.2987242043018341\n",
      "0.018123220652341843\n",
      "0.00036240005283616483\n"
     ]
    }
   ],
   "source": [
    "optimizer = optim.Adam(net.parameters())\n",
    "for i, batch in enumerate(train_loader):\n",
    "    optimizer.zero_grad()\n",
    "    features, targets = batch\n",
    "    features = Variable(features.view(-1, 28*28))\n",
    "    targets = Variable(targets)\n",
    "    #out = net(features)\n",
    "    loss = tree_loss(net.accum_probs(features, 1), targets)\n",
    "    loss.backward()\n",
    "    optimizer.step()\n",
    "    if i % 500 == 0:\n",
    "        print(loss.data[0])"
   ]
  },
  {
   "cell_type": "code",
   "execution_count": 211,
   "metadata": {},
   "outputs": [
    {
     "data": {
      "text/plain": [
       "Variable containing:\n",
       " 2.3352\n",
       "[torch.FloatTensor of size 1]"
      ]
     },
     "execution_count": 211,
     "metadata": {},
     "output_type": "execute_result"
    }
   ],
   "source": [
    "tree_loss(net.accum_probs(features, 1), targets)"
   ]
  },
  {
   "cell_type": "code",
   "execution_count": 203,
   "metadata": {},
   "outputs": [
    {
     "data": {
      "text/plain": [
       "[[Variable containing:\n",
       "   0.3698\n",
       "   0.2354\n",
       "   0.4157\n",
       "   0.3729\n",
       "   0.2251\n",
       "   0.2064\n",
       "   0.4087\n",
       "   0.2474\n",
       "   0.2635\n",
       "   0.4449\n",
       "  [torch.FloatTensor of size 10x1], Variable containing:\n",
       "  -2.3399 -2.1639 -2.3609 -2.2783 -2.1904 -2.4916 -2.0536 -2.3836 -2.4639 -2.3885\n",
       "  -2.1216 -2.4151 -2.4126 -2.6590 -1.6693 -2.6165 -2.2584 -2.4090 -2.7313 -2.2054\n",
       "  -2.4880 -2.4315 -2.4022 -2.4181 -1.8086 -2.3845 -2.6030 -2.5302 -2.6341 -1.7844\n",
       "  -2.0468 -2.6011 -2.1479 -2.4624 -1.6819 -2.7388 -2.4847 -2.4772 -2.7785 -2.1664\n",
       "  -2.3826 -2.1342 -2.5188 -2.6239 -1.7700 -2.5679 -2.3595 -2.4636 -2.3183 -2.1962\n",
       "  -2.3078 -2.1739 -2.2567 -2.5060 -2.0410 -2.2095 -2.4665 -2.6322 -2.4764 -2.1204\n",
       "  -2.3445 -2.3085 -2.1451 -2.3394 -2.0232 -2.3128 -2.3955 -2.4376 -2.6927 -2.1730\n",
       "  -2.2243 -2.3504 -2.1915 -2.2503 -2.1237 -2.3369 -2.4652 -2.4607 -2.5458 -2.1678\n",
       "  -2.1088 -2.3997 -2.3813 -2.4653 -1.7977 -2.5648 -2.4795 -2.3994 -2.4307 -2.2508\n",
       "  -2.2055 -2.3440 -2.4924 -2.2513 -1.9905 -2.3058 -2.5462 -2.3740 -2.7144 -2.0262\n",
       "  [torch.FloatTensor of size 10x10]], [Variable containing:\n",
       "   0.2023\n",
       "   0.1906\n",
       "   0.1621\n",
       "   0.2027\n",
       "   0.1740\n",
       "   0.1510\n",
       "   0.1896\n",
       "   0.2189\n",
       "   0.1629\n",
       "   0.2151\n",
       "  [torch.FloatTensor of size 10x1], Variable containing:\n",
       "  -2.2569 -2.5454 -2.5742 -2.3005 -2.1076 -2.5349 -2.1206 -2.7611 -1.9849 -2.1279\n",
       "  -2.4451 -2.6875 -2.3200 -2.3655 -2.1850 -2.1116 -2.2056 -2.9604 -2.6360 -1.6825\n",
       "  -2.3834 -2.6501 -2.3430 -2.7408 -2.0373 -2.2899 -1.9419 -2.5356 -2.3370 -2.0744\n",
       "  -2.4487 -2.3131 -2.2839 -2.4450 -1.9862 -2.4141 -2.3860 -2.5837 -2.3289 -2.0064\n",
       "  -2.2261 -2.3297 -2.4047 -2.5586 -1.8194 -2.6201 -2.3084 -2.5271 -2.3853 -2.1143\n",
       "  -2.1807 -2.3491 -2.3505 -2.7096 -1.8642 -2.5442 -2.2515 -2.9250 -2.2278 -2.0442\n",
       "  -2.6483 -2.6981 -2.3016 -2.0978 -2.2082 -2.0539 -2.2294 -2.7597 -2.4333 -1.9499\n",
       "  -2.2478 -2.2413 -2.4525 -2.5767 -2.0437 -2.4021 -2.3375 -2.4862 -2.2122 -2.1488\n",
       "  -2.4977 -2.5281 -2.4488 -2.2869 -2.1380 -2.2083 -1.8268 -3.1076 -2.3182 -2.1365\n",
       "  -2.4699 -2.7363 -2.6291 -2.4751 -2.0599 -2.2217 -2.0199 -2.6189 -2.3804 -1.8304\n",
       "  [torch.FloatTensor of size 10x10]], [Variable containing:\n",
       "   0.1500\n",
       "   0.3105\n",
       "   0.2761\n",
       "   0.2324\n",
       "   0.2885\n",
       "   0.3726\n",
       "   0.1900\n",
       "   0.2491\n",
       "   0.3863\n",
       "   0.2082\n",
       "  [torch.FloatTensor of size 10x1], Variable containing:\n",
       "  -2.4817 -2.3642 -2.1983 -1.9154 -2.3731 -2.7804 -2.2032 -2.2981 -2.0585 -2.6541\n",
       "  -2.2064 -2.4536 -2.2016 -2.3988 -2.6483 -2.4926 -2.2052 -2.0613 -1.9969 -2.5804\n",
       "  -2.3893 -2.3988 -2.2491 -2.2453 -2.7599 -2.7506 -2.4298 -2.0722 -1.8780 -2.1888\n",
       "  -2.0625 -2.3683 -2.3006 -2.3478 -2.4261 -2.5231 -2.3741 -2.1183 -2.1168 -2.5119\n",
       "  -2.1519 -2.4635 -2.1356 -2.4990 -2.5157 -2.7174 -2.1439 -2.1402 -2.0791 -2.3911\n",
       "  -2.1935 -2.4856 -2.1152 -2.3038 -2.6395 -2.2836 -2.3762 -2.1854 -2.1379 -2.4285\n",
       "  -2.5971 -2.3147 -2.3334 -2.3930 -2.8668 -2.2828 -2.2946 -1.8863 -2.2348 -2.1196\n",
       "  -2.2864 -2.5329 -2.0351 -2.3958 -2.5697 -2.4568 -2.3227 -2.2779 -2.1953 -2.0951\n",
       "  -2.0718 -2.4249 -2.0082 -2.2583 -2.6010 -2.4901 -2.2718 -2.2870 -2.2867 -2.4840\n",
       "  -2.3552 -2.3983 -2.4342 -2.0001 -2.7633 -2.2410 -2.2048 -2.1984 -2.0981 -2.5525\n",
       "  [torch.FloatTensor of size 10x10]], [Variable containing:\n",
       "   0.2779\n",
       "   0.2635\n",
       "   0.1462\n",
       "   0.1921\n",
       "   0.3125\n",
       "   0.2700\n",
       "   0.2118\n",
       "   0.2846\n",
       "   0.1874\n",
       "   0.1318\n",
       "  [torch.FloatTensor of size 10x1], Variable containing:\n",
       "  -2.0202 -2.7773 -2.2261 -3.0488 -2.0712 -2.1249 -2.8210 -2.3672 -2.6582 -1.7096\n",
       "  -2.2793 -2.5752 -2.2229 -2.5985 -1.9750 -2.0436 -2.6261 -2.2669 -2.6588 -2.0836\n",
       "  -2.4425 -2.5047 -2.0331 -3.1652 -1.9747 -2.3755 -2.9745 -2.3336 -2.3832 -1.6812\n",
       "  -2.3871 -2.4521 -2.1144 -2.6191 -2.0074 -2.0013 -2.8200 -2.4763 -2.4886 -2.0231\n",
       "  -2.2924 -2.8884 -1.9500 -2.8363 -2.3087 -2.3323 -2.6735 -2.1520 -2.1936 -1.9028\n",
       "  -2.1175 -2.9577 -2.2281 -2.8066 -2.3852 -2.4515 -2.2564 -2.1483 -2.1329 -1.9558\n",
       "  -2.3571 -2.5275 -1.9558 -2.5176 -2.2382 -1.9458 -2.5646 -2.4793 -2.6922 -2.0768\n",
       "  -1.9875 -2.6472 -2.1512 -2.6528 -2.2528 -2.2752 -2.2276 -2.3790 -2.5602 -2.1226\n",
       "  -2.2645 -2.6293 -2.2626 -2.8512 -2.1600 -2.1147 -2.4079 -2.2015 -2.5672 -1.9054\n",
       "  -2.5309 -2.1781 -1.7692 -2.5671 -2.4131 -2.2603 -2.6826 -2.6715 -2.5922 -1.8729\n",
       "  [torch.FloatTensor of size 10x10]]]"
      ]
     },
     "execution_count": 203,
     "metadata": {},
     "output_type": "execute_result"
    }
   ],
   "source": [
    "net.accum_probs(features, 1)"
   ]
  },
  {
   "cell_type": "code",
   "execution_count": 153,
   "metadata": {},
   "outputs": [
    {
     "data": {
      "text/plain": [
       "Variable containing:\n",
       " 0.5197  0.4803\n",
       "[torch.FloatTensor of size 1x2]"
      ]
     },
     "execution_count": 153,
     "metadata": {},
     "output_type": "execute_result"
    }
   ],
   "source": [
    "cp[0][1]"
   ]
  },
  {
   "cell_type": "code",
   "execution_count": 154,
   "metadata": {},
   "outputs": [],
   "source": [
    "criterion = nn.NLLLoss()"
   ]
  },
  {
   "cell_type": "code",
   "execution_count": 157,
   "metadata": {},
   "outputs": [
    {
     "data": {
      "text/plain": [
       "Variable containing:\n",
       "-0.4803\n",
       "[torch.FloatTensor of size 1]"
      ]
     },
     "execution_count": 157,
     "metadata": {},
     "output_type": "execute_result"
    }
   ],
   "source": [
    "criterion(p[0][1], t)"
   ]
  },
  {
   "cell_type": "code",
   "execution_count": 59,
   "metadata": {
    "scrolled": true
   },
   "outputs": [],
   "source": [
    "l = Leaf(20, 2)"
   ]
  },
  {
   "cell_type": "code",
   "execution_count": 60,
   "metadata": {},
   "outputs": [
    {
     "data": {
      "text/plain": [
       "Variable containing:\n",
       " 0.7010  0.2990\n",
       " 0.4587  0.5413\n",
       " 0.6445  0.3555\n",
       " 0.6523  0.3477\n",
       " 0.5520  0.4480\n",
       " 0.5729  0.4271\n",
       " 0.4309  0.5691\n",
       " 0.6113  0.3887\n",
       " 0.5364  0.4636\n",
       " 0.4727  0.5273\n",
       " 0.5744  0.4256\n",
       " 0.4254  0.5746\n",
       " 0.6120  0.3880\n",
       " 0.3881  0.6119\n",
       " 0.4329  0.5671\n",
       " 0.6215  0.3785\n",
       " 0.5566  0.4434\n",
       " 0.4899  0.5101\n",
       " 0.5596  0.4404\n",
       " 0.4213  0.5787\n",
       " 0.5454  0.4546\n",
       " 0.6407  0.3593\n",
       " 0.7366  0.2634\n",
       " 0.5357  0.4643\n",
       " 0.4664  0.5336\n",
       " 0.4837  0.5163\n",
       " 0.4695  0.5305\n",
       " 0.3931  0.6069\n",
       " 0.4598  0.5402\n",
       " 0.5820  0.4180\n",
       " 0.5449  0.4551\n",
       " 0.5599  0.4401\n",
       " 0.5203  0.4797\n",
       " 0.4539  0.5461\n",
       " 0.4069  0.5931\n",
       " 0.4765  0.5235\n",
       " 0.6093  0.3907\n",
       " 0.5651  0.4349\n",
       " 0.5195  0.4805\n",
       " 0.7444  0.2556\n",
       " 0.4269  0.5731\n",
       " 0.4473  0.5527\n",
       " 0.5124  0.4876\n",
       " 0.4995  0.5005\n",
       " 0.7357  0.2643\n",
       " 0.5297  0.4703\n",
       " 0.5353  0.4647\n",
       " 0.5564  0.4436\n",
       " 0.4799  0.5201\n",
       " 0.4594  0.5406\n",
       " 0.4223  0.5777\n",
       " 0.6069  0.3931\n",
       " 0.5184  0.4816\n",
       " 0.2934  0.7066\n",
       " 0.4795  0.5205\n",
       " 0.4228  0.5772\n",
       " 0.4746  0.5254\n",
       " 0.4543  0.5457\n",
       " 0.4915  0.5085\n",
       " 0.7506  0.2494\n",
       " 0.3913  0.6087\n",
       " 0.5906  0.4094\n",
       " 0.6700  0.3300\n",
       " 0.4345  0.5655\n",
       " 0.4025  0.5975\n",
       " 0.5730  0.4270\n",
       " 0.4163  0.5837\n",
       " 0.5017  0.4983\n",
       " 0.4581  0.5419\n",
       " 0.5740  0.4260\n",
       " 0.5664  0.4336\n",
       " 0.4470  0.5530\n",
       " 0.4716  0.5284\n",
       " 0.4761  0.5239\n",
       " 0.4448  0.5552\n",
       " 0.5357  0.4643\n",
       " 0.4385  0.5615\n",
       " 0.5305  0.4695\n",
       " 0.5145  0.4855\n",
       " 0.5347  0.4653\n",
       " 0.4728  0.5272\n",
       " 0.4666  0.5334\n",
       " 0.3363  0.6637\n",
       " 0.6276  0.3724\n",
       " 0.4739  0.5261\n",
       " 0.5521  0.4479\n",
       " 0.5093  0.4907\n",
       " 0.4782  0.5218\n",
       " 0.5116  0.4884\n",
       " 0.5564  0.4436\n",
       " 0.4297  0.5703\n",
       " 0.3842  0.6158\n",
       " 0.3599  0.6401\n",
       " 0.4299  0.5701\n",
       " 0.5588  0.4412\n",
       " 0.4090  0.5910\n",
       " 0.3622  0.6378\n",
       " 0.5353  0.4647\n",
       " 0.4537  0.5463\n",
       " 0.6025  0.3975\n",
       "[torch.FloatTensor of size 100x2]"
      ]
     },
     "execution_count": 60,
     "metadata": {},
     "output_type": "execute_result"
    }
   ],
   "source": [
    "l(f)"
   ]
  },
  {
   "cell_type": "code",
   "execution_count": 58,
   "metadata": {},
   "outputs": [
    {
     "data": {
      "text/plain": [
       "torch.Size([100, 20])"
      ]
     },
     "execution_count": 58,
     "metadata": {},
     "output_type": "execute_result"
    }
   ],
   "source": [
    "f.shape"
   ]
  },
  {
   "cell_type": "code",
   "execution_count": 25,
   "metadata": {},
   "outputs": [
    {
     "data": {
      "text/plain": [
       "Variable containing:\n",
       " 0.5568\n",
       " 0.4157\n",
       " 0.6472\n",
       " 0.5052\n",
       " 0.7840\n",
       " 0.5970\n",
       " 0.5989\n",
       " 0.6032\n",
       " 0.5259\n",
       " 0.4826\n",
       " 0.5710\n",
       " 0.3354\n",
       " 0.6097\n",
       " 0.2600\n",
       " 0.4450\n",
       " 0.4455\n",
       " 0.6031\n",
       " 0.4423\n",
       " 0.6174\n",
       " 0.5324\n",
       " 0.4664\n",
       " 0.6138\n",
       " 0.3941\n",
       " 0.4854\n",
       " 0.3821\n",
       " 0.5882\n",
       " 0.6332\n",
       " 0.6062\n",
       " 0.2798\n",
       " 0.4175\n",
       " 0.4970\n",
       " 0.4680\n",
       " 0.4224\n",
       " 0.5263\n",
       " 0.3459\n",
       " 0.3255\n",
       " 0.5238\n",
       " 0.5932\n",
       " 0.4105\n",
       " 0.5355\n",
       " 0.6300\n",
       " 0.5799\n",
       " 0.5868\n",
       " 0.6435\n",
       " 0.6820\n",
       " 0.3809\n",
       " 0.5247\n",
       " 0.5251\n",
       " 0.4482\n",
       " 0.5785\n",
       " 0.3621\n",
       " 0.5591\n",
       " 0.4758\n",
       " 0.3217\n",
       " 0.5141\n",
       " 0.3364\n",
       " 0.6387\n",
       " 0.6046\n",
       " 0.4159\n",
       " 0.6508\n",
       " 0.2434\n",
       " 0.4416\n",
       " 0.7236\n",
       " 0.2498\n",
       " 0.3928\n",
       " 0.5419\n",
       " 0.6580\n",
       " 0.4069\n",
       " 0.4864\n",
       " 0.5594\n",
       " 0.5003\n",
       " 0.4538\n",
       " 0.4237\n",
       " 0.4355\n",
       " 0.4910\n",
       " 0.4696\n",
       " 0.6194\n",
       " 0.6092\n",
       " 0.5075\n",
       " 0.5751\n",
       " 0.5980\n",
       " 0.5513\n",
       " 0.3349\n",
       " 0.5950\n",
       " 0.4625\n",
       " 0.4790\n",
       " 0.5537\n",
       " 0.3851\n",
       " 0.6574\n",
       " 0.5526\n",
       " 0.3472\n",
       " 0.4050\n",
       " 0.5815\n",
       " 0.3393\n",
       " 0.3553\n",
       " 0.2930\n",
       " 0.1914\n",
       " 0.4552\n",
       " 0.1965\n",
       " 0.5975\n",
       "[torch.FloatTensor of size 100x1]"
      ]
     },
     "execution_count": 25,
     "metadata": {},
     "output_type": "execute_result"
    }
   ],
   "source": [
    "n(f)"
   ]
  },
  {
   "cell_type": "code",
   "execution_count": null,
   "metadata": {},
   "outputs": [],
   "source": []
  }
 ],
 "metadata": {
  "kernelspec": {
   "display_name": "Python 3",
   "language": "python",
   "name": "python3"
  },
  "language_info": {
   "codemirror_mode": {
    "name": "ipython",
    "version": 3
   },
   "file_extension": ".py",
   "mimetype": "text/x-python",
   "name": "python",
   "nbconvert_exporter": "python",
   "pygments_lexer": "ipython3",
   "version": "3.6.2"
  }
 },
 "nbformat": 4,
 "nbformat_minor": 2
}
