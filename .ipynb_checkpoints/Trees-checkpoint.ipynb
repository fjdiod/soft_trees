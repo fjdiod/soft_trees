{
 "cells": [
  {
   "cell_type": "code",
   "execution_count": 78,
   "metadata": {},
   "outputs": [],
   "source": [
    "import torch\n",
    "from torch import nn\n",
    "from torch.autograd import Variable\n",
    "from torchvision import datasets, transforms"
   ]
  },
  {
   "cell_type": "code",
   "execution_count": null,
   "metadata": {},
   "outputs": [],
   "source": [
    "bsz = 10\n",
    "\n",
    "train_loader = torch.utils.data.DataLoader(\n",
    "        datasets.MNIST('../data', train=True, download=True,\n",
    "                       transform=transforms.Compose([\n",
    "                           transforms.ToTensor(),\n",
    "                           transforms.Normalize((0.1307,), (0.3081,))\n",
    "                       ])),\n",
    "        batch_size=bsz, shuffle=True, **kwargs)\n",
    "    test_loader = torch.utils.data.DataLoader(\n",
    "        datasets.MNIST('../data', train=False, transform=transforms.Compose([\n",
    "                           transforms.ToTensor(),\n",
    "                           transforms.Normalize((0.1307,), (0.3081,))\n",
    "                       ])),\n",
    "batch_size=bsz, shuffle=True, **kwargs)"
   ]
  },
  {
   "cell_type": "code",
   "execution_count": 65,
   "metadata": {},
   "outputs": [],
   "source": [
    "class Leaf(nn.Module):\n",
    "    def __init__(self, i_size, o_size, h_size=10):\n",
    "        super(Leaf, self).__init__()\n",
    "        self.i2h = nn.Linear(i_size, h_size)\n",
    "        self.h2o = nn.Linear(h_size, o_size)\n",
    "        self.soft = nn.LogSoftmax(1)\n",
    "        self.relu = nn.ReLU()\n",
    "        self.is_leaf = True\n",
    "\n",
    "    def forward(self, features):\n",
    "        out = self.i2h(features)\n",
    "        out = self.relu(out)\n",
    "        out = self.h2o(out)\n",
    "        return self.soft(out)\n",
    "\n",
    "class Node(nn.Module):\n",
    "    def __init__(self, i_size, o_size):\n",
    "        super(Node, self).__init__()\n",
    "        self.o_size = o_size\n",
    "        self.i_size = i_size\n",
    "        self.i2o = nn.Linear(i_size, 1)\n",
    "        self.sigmoid = nn.Sigmoid()\n",
    "        self.is_leaf = False\n",
    "    \n",
    "    def build_tree(self, depth):\n",
    "        if depth > 0:\n",
    "            self.left = Node(self.i_size, self.o_size)\n",
    "            self.right = Node(self.i_size, self.o_size)\n",
    "            self.left.build_tree(depth - 1)\n",
    "            self.right.build_tree(depth - 1)\n",
    "        else:\n",
    "            self.left = Leaf(self.i_size, self.o_size)\n",
    "            self.right = Leaf(self.i_size, self.o_size)\n",
    "\n",
    "    def forward(self, features):\n",
    "        pr = self.sigmoid(self.i2o(features))\n",
    "        return pr*self.left(features) + (1 - pr)*self.right(features)\n",
    "    \n",
    "    def loss(self, output):\n",
    "        criterion = nn.NLLLoss()\n",
    "        if\n",
    "    \n",
    "class Tree(nn.Module):\n",
    "    def __init__(self, i_size, depth):\n",
    "        self.root = Node(i_size)\n",
    "        self.root.build_tree(depth)\n",
    "        cur_node = self.root\n",
    "        for i in range(depth-1):\n",
    "            cur_node.add_children()\n",
    "        self.l1 = Node(i_size)\n",
    "        self.r1 = Node()\n",
    "\n",
    "    def forward(self, features):\n",
    "        out = self.root()\n"
   ]
  },
  {
   "cell_type": "code",
   "execution_count": 66,
   "metadata": {},
   "outputs": [],
   "source": [
    "net = Node(20, 2)"
   ]
  },
  {
   "cell_type": "code",
   "execution_count": 67,
   "metadata": {},
   "outputs": [],
   "source": [
    "net.build_tree(2)"
   ]
  },
  {
   "cell_type": "code",
   "execution_count": 73,
   "metadata": {},
   "outputs": [],
   "source": [
    "target = torch.LongTensor([1]*100)"
   ]
  },
  {
   "cell_type": "code",
   "execution_count": 74,
   "metadata": {},
   "outputs": [],
   "source": [
    "o = net(f)"
   ]
  },
  {
   "cell_type": "code",
   "execution_count": 75,
   "metadata": {},
   "outputs": [],
   "source": [
    "criterion = nn.NLLLoss()"
   ]
  },
  {
   "cell_type": "code",
   "execution_count": 77,
   "metadata": {},
   "outputs": [
    {
     "data": {
      "text/plain": [
       "Variable containing:\n",
       " 0.7011\n",
       "[torch.FloatTensor of size 1]"
      ]
     },
     "execution_count": 77,
     "metadata": {},
     "output_type": "execute_result"
    }
   ],
   "source": [
    "criterion(o, Variable(target))"
   ]
  },
  {
   "cell_type": "code",
   "execution_count": 22,
   "metadata": {},
   "outputs": [],
   "source": [
    "f = Variable(torch.randn((100, 20)))"
   ]
  },
  {
   "cell_type": "code",
   "execution_count": 59,
   "metadata": {
    "scrolled": true
   },
   "outputs": [],
   "source": [
    "l = Leaf(20, 2)"
   ]
  },
  {
   "cell_type": "code",
   "execution_count": 60,
   "metadata": {},
   "outputs": [
    {
     "data": {
      "text/plain": [
       "Variable containing:\n",
       " 0.7010  0.2990\n",
       " 0.4587  0.5413\n",
       " 0.6445  0.3555\n",
       " 0.6523  0.3477\n",
       " 0.5520  0.4480\n",
       " 0.5729  0.4271\n",
       " 0.4309  0.5691\n",
       " 0.6113  0.3887\n",
       " 0.5364  0.4636\n",
       " 0.4727  0.5273\n",
       " 0.5744  0.4256\n",
       " 0.4254  0.5746\n",
       " 0.6120  0.3880\n",
       " 0.3881  0.6119\n",
       " 0.4329  0.5671\n",
       " 0.6215  0.3785\n",
       " 0.5566  0.4434\n",
       " 0.4899  0.5101\n",
       " 0.5596  0.4404\n",
       " 0.4213  0.5787\n",
       " 0.5454  0.4546\n",
       " 0.6407  0.3593\n",
       " 0.7366  0.2634\n",
       " 0.5357  0.4643\n",
       " 0.4664  0.5336\n",
       " 0.4837  0.5163\n",
       " 0.4695  0.5305\n",
       " 0.3931  0.6069\n",
       " 0.4598  0.5402\n",
       " 0.5820  0.4180\n",
       " 0.5449  0.4551\n",
       " 0.5599  0.4401\n",
       " 0.5203  0.4797\n",
       " 0.4539  0.5461\n",
       " 0.4069  0.5931\n",
       " 0.4765  0.5235\n",
       " 0.6093  0.3907\n",
       " 0.5651  0.4349\n",
       " 0.5195  0.4805\n",
       " 0.7444  0.2556\n",
       " 0.4269  0.5731\n",
       " 0.4473  0.5527\n",
       " 0.5124  0.4876\n",
       " 0.4995  0.5005\n",
       " 0.7357  0.2643\n",
       " 0.5297  0.4703\n",
       " 0.5353  0.4647\n",
       " 0.5564  0.4436\n",
       " 0.4799  0.5201\n",
       " 0.4594  0.5406\n",
       " 0.4223  0.5777\n",
       " 0.6069  0.3931\n",
       " 0.5184  0.4816\n",
       " 0.2934  0.7066\n",
       " 0.4795  0.5205\n",
       " 0.4228  0.5772\n",
       " 0.4746  0.5254\n",
       " 0.4543  0.5457\n",
       " 0.4915  0.5085\n",
       " 0.7506  0.2494\n",
       " 0.3913  0.6087\n",
       " 0.5906  0.4094\n",
       " 0.6700  0.3300\n",
       " 0.4345  0.5655\n",
       " 0.4025  0.5975\n",
       " 0.5730  0.4270\n",
       " 0.4163  0.5837\n",
       " 0.5017  0.4983\n",
       " 0.4581  0.5419\n",
       " 0.5740  0.4260\n",
       " 0.5664  0.4336\n",
       " 0.4470  0.5530\n",
       " 0.4716  0.5284\n",
       " 0.4761  0.5239\n",
       " 0.4448  0.5552\n",
       " 0.5357  0.4643\n",
       " 0.4385  0.5615\n",
       " 0.5305  0.4695\n",
       " 0.5145  0.4855\n",
       " 0.5347  0.4653\n",
       " 0.4728  0.5272\n",
       " 0.4666  0.5334\n",
       " 0.3363  0.6637\n",
       " 0.6276  0.3724\n",
       " 0.4739  0.5261\n",
       " 0.5521  0.4479\n",
       " 0.5093  0.4907\n",
       " 0.4782  0.5218\n",
       " 0.5116  0.4884\n",
       " 0.5564  0.4436\n",
       " 0.4297  0.5703\n",
       " 0.3842  0.6158\n",
       " 0.3599  0.6401\n",
       " 0.4299  0.5701\n",
       " 0.5588  0.4412\n",
       " 0.4090  0.5910\n",
       " 0.3622  0.6378\n",
       " 0.5353  0.4647\n",
       " 0.4537  0.5463\n",
       " 0.6025  0.3975\n",
       "[torch.FloatTensor of size 100x2]"
      ]
     },
     "execution_count": 60,
     "metadata": {},
     "output_type": "execute_result"
    }
   ],
   "source": [
    "l(f)"
   ]
  },
  {
   "cell_type": "code",
   "execution_count": 58,
   "metadata": {},
   "outputs": [
    {
     "data": {
      "text/plain": [
       "torch.Size([100, 20])"
      ]
     },
     "execution_count": 58,
     "metadata": {},
     "output_type": "execute_result"
    }
   ],
   "source": [
    "f.shape"
   ]
  },
  {
   "cell_type": "code",
   "execution_count": 25,
   "metadata": {},
   "outputs": [
    {
     "data": {
      "text/plain": [
       "Variable containing:\n",
       " 0.5568\n",
       " 0.4157\n",
       " 0.6472\n",
       " 0.5052\n",
       " 0.7840\n",
       " 0.5970\n",
       " 0.5989\n",
       " 0.6032\n",
       " 0.5259\n",
       " 0.4826\n",
       " 0.5710\n",
       " 0.3354\n",
       " 0.6097\n",
       " 0.2600\n",
       " 0.4450\n",
       " 0.4455\n",
       " 0.6031\n",
       " 0.4423\n",
       " 0.6174\n",
       " 0.5324\n",
       " 0.4664\n",
       " 0.6138\n",
       " 0.3941\n",
       " 0.4854\n",
       " 0.3821\n",
       " 0.5882\n",
       " 0.6332\n",
       " 0.6062\n",
       " 0.2798\n",
       " 0.4175\n",
       " 0.4970\n",
       " 0.4680\n",
       " 0.4224\n",
       " 0.5263\n",
       " 0.3459\n",
       " 0.3255\n",
       " 0.5238\n",
       " 0.5932\n",
       " 0.4105\n",
       " 0.5355\n",
       " 0.6300\n",
       " 0.5799\n",
       " 0.5868\n",
       " 0.6435\n",
       " 0.6820\n",
       " 0.3809\n",
       " 0.5247\n",
       " 0.5251\n",
       " 0.4482\n",
       " 0.5785\n",
       " 0.3621\n",
       " 0.5591\n",
       " 0.4758\n",
       " 0.3217\n",
       " 0.5141\n",
       " 0.3364\n",
       " 0.6387\n",
       " 0.6046\n",
       " 0.4159\n",
       " 0.6508\n",
       " 0.2434\n",
       " 0.4416\n",
       " 0.7236\n",
       " 0.2498\n",
       " 0.3928\n",
       " 0.5419\n",
       " 0.6580\n",
       " 0.4069\n",
       " 0.4864\n",
       " 0.5594\n",
       " 0.5003\n",
       " 0.4538\n",
       " 0.4237\n",
       " 0.4355\n",
       " 0.4910\n",
       " 0.4696\n",
       " 0.6194\n",
       " 0.6092\n",
       " 0.5075\n",
       " 0.5751\n",
       " 0.5980\n",
       " 0.5513\n",
       " 0.3349\n",
       " 0.5950\n",
       " 0.4625\n",
       " 0.4790\n",
       " 0.5537\n",
       " 0.3851\n",
       " 0.6574\n",
       " 0.5526\n",
       " 0.3472\n",
       " 0.4050\n",
       " 0.5815\n",
       " 0.3393\n",
       " 0.3553\n",
       " 0.2930\n",
       " 0.1914\n",
       " 0.4552\n",
       " 0.1965\n",
       " 0.5975\n",
       "[torch.FloatTensor of size 100x1]"
      ]
     },
     "execution_count": 25,
     "metadata": {},
     "output_type": "execute_result"
    }
   ],
   "source": [
    "n(f)"
   ]
  },
  {
   "cell_type": "code",
   "execution_count": null,
   "metadata": {},
   "outputs": [],
   "source": []
  }
 ],
 "metadata": {
  "kernelspec": {
   "display_name": "Python 3",
   "language": "python",
   "name": "python3"
  },
  "language_info": {
   "codemirror_mode": {
    "name": "ipython",
    "version": 3
   },
   "file_extension": ".py",
   "mimetype": "text/x-python",
   "name": "python",
   "nbconvert_exporter": "python",
   "pygments_lexer": "ipython3",
   "version": "3.6.2"
  }
 },
 "nbformat": 4,
 "nbformat_minor": 2
}
